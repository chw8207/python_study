{
  "nbformat": 4,
  "nbformat_minor": 0,
  "metadata": {
    "colab": {
      "provenance": [],
      "mount_file_id": "117iZD_28qV2CcN7DLxy70AvHGN8d4z80",
      "authorship_tag": "ABX9TyNF6gFx/rDMa4jRTSBRWILb",
      "include_colab_link": true
    },
    "kernelspec": {
      "name": "python3",
      "display_name": "Python 3"
    },
    "language_info": {
      "name": "python"
    }
  },
  "cells": [
    {
      "cell_type": "markdown",
      "metadata": {
        "id": "view-in-github",
        "colab_type": "text"
      },
      "source": [
        "<a href=\"https://colab.research.google.com/github/chw8207/python_study/blob/main/%EA%B7%B8%EB%A6%AC%EB%94%94(%ED%83%90%EC%9A%95%EB%B2%95).ipynb\" target=\"_parent\"><img src=\"https://colab.research.google.com/assets/colab-badge.svg\" alt=\"Open In Colab\"/></a>"
      ]
    },
    {
      "cell_type": "code",
      "source": [
        "# 거스름돈 문제\n",
        "# 500원, 100원, 50원, 10원짜리 동전\n",
        "# 입력으로 주어진 N이 1260원\n",
        "n = 1260\n",
        "cnt = 0\n",
        "\n",
        "# 큰 화폐의 단위부터 차례대로 확인\n",
        "coin_types = [500, 100, 50, 10]\n",
        "for coin in coin_types :\n",
        "  # 해당 화폐로 거슬러줄 수 있는 동전 개수 세기 \n",
        "  cnt += n//coin\n",
        "  n %= coin\n",
        "print(cnt)"
      ],
      "metadata": {
        "colab": {
          "base_uri": "https://localhost:8080/"
        },
        "id": "Na2tL9PA7ZYD",
        "outputId": "9f6169f4-40de-47d3-99f4-e256267dafe6"
      },
      "execution_count": 1,
      "outputs": [
        {
          "output_type": "stream",
          "name": "stdout",
          "text": [
            "6\n"
          ]
        }
      ]
    }
  ]
}