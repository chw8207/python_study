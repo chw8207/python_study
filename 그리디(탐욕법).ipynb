{
  "nbformat": 4,
  "nbformat_minor": 0,
  "metadata": {
    "colab": {
      "provenance": [],
      "mount_file_id": "1loOQZuHf0Dimo7wq5YLECps5Cobs_M46",
      "authorship_tag": "ABX9TyPkrzv8BgR4YGTgcdu9KBKH",
      "include_colab_link": true
    },
    "kernelspec": {
      "name": "python3",
      "display_name": "Python 3"
    },
    "language_info": {
      "name": "python"
    }
  },
  "cells": [
    {
      "cell_type": "markdown",
      "metadata": {
        "id": "view-in-github",
        "colab_type": "text"
      },
      "source": [
        "<a href=\"https://colab.research.google.com/github/chw8207/python_study/blob/main/%EA%B7%B8%EB%A6%AC%EB%94%94(%ED%83%90%EC%9A%95%EB%B2%95).ipynb\" target=\"_parent\"><img src=\"https://colab.research.google.com/assets/colab-badge.svg\" alt=\"Open In Colab\"/></a>"
      ]
    },
    {
      "cell_type": "code",
      "source": [
        "# 거스름돈 문제\n",
        "# 500원, 100원, 50원, 10원짜리 동전\n",
        "# 입력으로 주어진 N이 1260원\n",
        "n = 1260\n",
        "cnt = 0\n",
        "\n",
        "# 큰 화폐의 단위부터 차례대로 확인\n",
        "coin_types = [500, 100, 50, 10]\n",
        "for coin in coin_types :\n",
        "  # 해당 화폐로 거슬러줄 수 있는 동전 개수 세기 \n",
        "  cnt += n//coin\n",
        "  n %= coin\n",
        "print(cnt)"
      ],
      "metadata": {
        "colab": {
          "base_uri": "https://localhost:8080/"
        },
        "id": "Na2tL9PA7ZYD",
        "outputId": "9f6169f4-40de-47d3-99f4-e256267dafe6"
      },
      "execution_count": 1,
      "outputs": [
        {
          "output_type": "stream",
          "name": "stdout",
          "text": [
            "6\n"
          ]
        }
      ]
    },
    {
      "cell_type": "code",
      "source": [
        "# 큰 수의 법칙\n",
        "# 배열 안의 주어진 수들을 M번 더하여 가장 큰 수를 만드는 법칙\n",
        "# 연속해서 K번을 초과하여 더할 수 없음\n",
        "# 배열의 크기 N, 숫자가 더해지는 횟수 M, K 입력\n",
        "n, m, k = map(int, input().split())\n",
        "# n개의 수로 이루어진 배열 선언\n",
        "data = list(map(int, input().split()))\n",
        "\n",
        "# 정렬하기\n",
        "data.sort()\n",
        "first = data[-1]\n",
        "second = data[-2]\n",
        "\n",
        "# 가장 큰 수가 더해지는 횟수 계산\n",
        "count = m//k+1*k\n",
        "count += m%(k+1)\n",
        "\n",
        "result = 0\n",
        "result += (count)*first\n",
        "result += (m-count)*second\n",
        "\n",
        "print(result)"
      ],
      "metadata": {
        "colab": {
          "base_uri": "https://localhost:8080/"
        },
        "id": "jd7cwzyN9Twz",
        "outputId": "741c1853-806d-4cdb-af34-a9e2b27d543c"
      },
      "execution_count": 6,
      "outputs": [
        {
          "output_type": "stream",
          "name": "stdout",
          "text": [
            "5 8 3\n",
            "2 4 5 4 6\n",
            "45\n"
          ]
        }
      ]
    }
  ]
}