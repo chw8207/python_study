{
  "nbformat": 4,
  "nbformat_minor": 0,
  "metadata": {
    "colab": {
      "provenance": [],
      "mount_file_id": "1loOQZuHf0Dimo7wq5YLECps5Cobs_M46",
      "authorship_tag": "ABX9TyPE5YJbDZZxIfkVGz2HRYdi",
      "include_colab_link": true
    },
    "kernelspec": {
      "name": "python3",
      "display_name": "Python 3"
    },
    "language_info": {
      "name": "python"
    }
  },
  "cells": [
    {
      "cell_type": "markdown",
      "metadata": {
        "id": "view-in-github",
        "colab_type": "text"
      },
      "source": [
        "<a href=\"https://colab.research.google.com/github/chw8207/python_study/blob/main/%EA%B7%B8%EB%A6%AC%EB%94%94(%ED%83%90%EC%9A%95%EB%B2%95).ipynb\" target=\"_parent\"><img src=\"https://colab.research.google.com/assets/colab-badge.svg\" alt=\"Open In Colab\"/></a>"
      ]
    },
    {
      "cell_type": "code",
      "source": [
        "# 거스름돈 문제\n",
        "# 500원, 100원, 50원, 10원짜리 동전\n",
        "# 입력으로 주어진 N이 1260원\n",
        "n = 1260\n",
        "cnt = 0\n",
        "\n",
        "# 큰 화폐의 단위부터 차례대로 확인\n",
        "coin_types = [500, 100, 50, 10]\n",
        "for coin in coin_types :\n",
        "  # 해당 화폐로 거슬러줄 수 있는 동전 개수 세기 \n",
        "  cnt += n//coin\n",
        "  n %= coin\n",
        "print(cnt)"
      ],
      "metadata": {
        "colab": {
          "base_uri": "https://localhost:8080/"
        },
        "id": "Na2tL9PA7ZYD",
        "outputId": "9f6169f4-40de-47d3-99f4-e256267dafe6"
      },
      "execution_count": null,
      "outputs": [
        {
          "output_type": "stream",
          "name": "stdout",
          "text": [
            "6\n"
          ]
        }
      ]
    },
    {
      "cell_type": "code",
      "source": [
        "# 큰 수의 법칙\n",
        "# 배열 안의 주어진 수들을 M번 더하여 가장 큰 수를 만드는 법칙\n",
        "# 연속해서 K번을 초과하여 더할 수 없음\n",
        "# 배열의 크기 N, 숫자가 더해지는 횟수 M, K 입력\n",
        "n, m, k = map(int, input().split())\n",
        "# n개의 수로 이루어진 배열 선언\n",
        "data = list(map(int, input().split()))\n",
        "\n",
        "# 정렬하기\n",
        "data.sort()\n",
        "first = data[-1]\n",
        "second = data[-2]\n",
        "\n",
        "# 가장 큰 수가 더해지는 횟수 계산\n",
        "count = int(m/(k+1))*k\n",
        "count += m%(k+1)\n",
        "\n",
        "result = 0\n",
        "result += (count)*first\n",
        "result += (m-count)*second\n",
        "\n",
        "print(result)"
      ],
      "metadata": {
        "colab": {
          "base_uri": "https://localhost:8080/"
        },
        "id": "jd7cwzyN9Twz",
        "outputId": "3f154591-5334-475d-8e31-86d320a3f803"
      },
      "execution_count": null,
      "outputs": [
        {
          "output_type": "stream",
          "name": "stdout",
          "text": [
            "5 8 3\n",
            "2 4 5 4 6\n",
            "46\n"
          ]
        }
      ]
    },
    {
      "cell_type": "code",
      "source": [
        "# 숫자 카드 게임\n",
        "# 최종적으로 가장 높은 숫자 뽑기\n",
        "# n:행 개수, m:열 개수\n",
        "n, m = map(int, input().split())\n",
        "\n",
        "# result 초기화\n",
        "result = 0\n",
        "\n",
        "for i in range(n) : \n",
        "  data = list(map(int, input().split()))\n",
        "\n",
        "  # 가장 작은 수 찾기\n",
        "  min_data = min(data)\n",
        "  result = max(result, min_data)\n",
        "\n",
        "print(result)"
      ],
      "metadata": {
        "colab": {
          "base_uri": "https://localhost:8080/"
        },
        "id": "vMt4EIhJY6gs",
        "outputId": "015eca8b-2f5c-434c-f87a-ebbd433388ff"
      },
      "execution_count": null,
      "outputs": [
        {
          "output_type": "stream",
          "name": "stdout",
          "text": [
            "3 3\n",
            "3 1 2\n",
            "4 1 4\n",
            "2 2 2\n",
            "2\n"
          ]
        }
      ]
    },
    {
      "cell_type": "code",
      "source": [
        "# n이 1이 될 때까지 다음 중 한가지를 반복적으로 수행\n",
        "# 1. N에서 1을 뺀다.\n",
        "# 2. N을 K로 나눈다. (N%K==0 일 때만)\n",
        "# 단순하게 푸는 방법\n",
        "n, k = map(int, input().split())\n",
        "result = 0\n",
        "\n",
        "while n >= k : \n",
        "  while n%k != 0 : \n",
        "    n -= 1\n",
        "    result += 1\n",
        "  n //= k\n",
        "  result += 1\n",
        "\n",
        "# 마지막으로 남은 수에서 1씩 빼기\n",
        "while n>1 : \n",
        "  n -= 1\n",
        "  result += 1\n",
        "\n",
        "print(result)"
      ],
      "metadata": {
        "id": "AcaBjhHlhCVe",
        "colab": {
          "base_uri": "https://localhost:8080/"
        },
        "outputId": "0dea5e85-a7b7-4275-c46b-deb669276e6b"
      },
      "execution_count": 1,
      "outputs": [
        {
          "output_type": "stream",
          "name": "stdout",
          "text": [
            "25 5\n",
            "2\n"
          ]
        }
      ]
    },
    {
      "cell_type": "code",
      "source": [],
      "metadata": {
        "id": "YcUUYJAUvMX7"
      },
      "execution_count": null,
      "outputs": []
    }
  ]
}