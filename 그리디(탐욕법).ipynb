{
  "nbformat": 4,
  "nbformat_minor": 0,
  "metadata": {
    "colab": {
      "provenance": [],
      "mount_file_id": "1loOQZuHf0Dimo7wq5YLECps5Cobs_M46",
      "authorship_tag": "ABX9TyPUpE5VlWaSPHqzybOaLkAQ",
      "include_colab_link": true
    },
    "kernelspec": {
      "name": "python3",
      "display_name": "Python 3"
    },
    "language_info": {
      "name": "python"
    }
  },
  "cells": [
    {
      "cell_type": "markdown",
      "metadata": {
        "id": "view-in-github",
        "colab_type": "text"
      },
      "source": [
        "<a href=\"https://colab.research.google.com/github/chw8207/python_study/blob/main/%EA%B7%B8%EB%A6%AC%EB%94%94(%ED%83%90%EC%9A%95%EB%B2%95).ipynb\" target=\"_parent\"><img src=\"https://colab.research.google.com/assets/colab-badge.svg\" alt=\"Open In Colab\"/></a>"
      ]
    },
    {
      "cell_type": "code",
      "source": [
        "# 거스름돈 문제\n",
        "# 500원, 100원, 50원, 10원짜리 동전\n",
        "# 입력으로 주어진 N이 1260원\n",
        "n = 1260\n",
        "cnt = 0\n",
        "\n",
        "# 큰 화폐의 단위부터 차례대로 확인\n",
        "coin_types = [500, 100, 50, 10]\n",
        "for coin in coin_types :\n",
        "  # 해당 화폐로 거슬러줄 수 있는 동전 개수 세기 \n",
        "  cnt += n//coin\n",
        "  n %= coin\n",
        "print(cnt)"
      ],
      "metadata": {
        "colab": {
          "base_uri": "https://localhost:8080/"
        },
        "id": "Na2tL9PA7ZYD",
        "outputId": "9f6169f4-40de-47d3-99f4-e256267dafe6"
      },
      "execution_count": null,
      "outputs": [
        {
          "output_type": "stream",
          "name": "stdout",
          "text": [
            "6\n"
          ]
        }
      ]
    },
    {
      "cell_type": "code",
      "source": [
        "# 큰 수의 법칙\n",
        "# 배열 안의 주어진 수들을 M번 더하여 가장 큰 수를 만드는 법칙\n",
        "# 연속해서 K번을 초과하여 더할 수 없음\n",
        "# 배열의 크기 N, 숫자가 더해지는 횟수 M, K 입력\n",
        "n, m, k = map(int, input().split())\n",
        "# n개의 수로 이루어진 배열 선언\n",
        "data = list(map(int, input().split()))\n",
        "\n",
        "# 정렬하기\n",
        "data.sort()\n",
        "first = data[-1]\n",
        "second = data[-2]\n",
        "\n",
        "# 가장 큰 수가 더해지는 횟수 계산\n",
        "count = int(m/(k+1))*k\n",
        "count += m%(k+1)\n",
        "\n",
        "result = 0\n",
        "result += (count)*first\n",
        "result += (m-count)*second\n",
        "\n",
        "print(result)"
      ],
      "metadata": {
        "colab": {
          "base_uri": "https://localhost:8080/"
        },
        "id": "jd7cwzyN9Twz",
        "outputId": "3f154591-5334-475d-8e31-86d320a3f803"
      },
      "execution_count": null,
      "outputs": [
        {
          "output_type": "stream",
          "name": "stdout",
          "text": [
            "5 8 3\n",
            "2 4 5 4 6\n",
            "46\n"
          ]
        }
      ]
    },
    {
      "cell_type": "code",
      "source": [
        "# 숫자 카드 게임\n",
        "# 최종적으로 가장 높은 숫자 뽑기\n",
        "# n:행 개수, m:열 개수\n",
        "n, m = map(int, input().split())\n",
        "\n",
        "# result 초기화\n",
        "result = 0\n",
        "\n",
        "for i in range(n) : \n",
        "  data = list(map(int, input().split()))\n",
        "\n",
        "  # 가장 작은 수 찾기\n",
        "  min_data = min(data)\n",
        "  result = max(result, min_data)\n",
        "\n",
        "print(result)"
      ],
      "metadata": {
        "colab": {
          "base_uri": "https://localhost:8080/"
        },
        "id": "vMt4EIhJY6gs",
        "outputId": "015eca8b-2f5c-434c-f87a-ebbd433388ff"
      },
      "execution_count": null,
      "outputs": [
        {
          "output_type": "stream",
          "name": "stdout",
          "text": [
            "3 3\n",
            "3 1 2\n",
            "4 1 4\n",
            "2 2 2\n",
            "2\n"
          ]
        }
      ]
    },
    {
      "cell_type": "code",
      "source": [
        "# n이 1이 될 때까지 다음 중 한가지를 반복적으로 수행\n",
        "# 1. N에서 1을 뺀다.\n",
        "# 2. N을 K로 나눈다. (N%K==0 일 때만)\n",
        "# 단순하게 푸는 방법\n",
        "n, k = map(int, input().split())\n",
        "result = 0\n",
        "\n",
        "while n >= k : \n",
        "  while n%k != 0 : \n",
        "    n -= 1\n",
        "    result += 1\n",
        "  n //= k\n",
        "  result += 1\n",
        "\n",
        "# 마지막으로 남은 수에서 1씩 빼기\n",
        "while n>1 : \n",
        "  n -= 1\n",
        "  result += 1\n",
        "\n",
        "print(result)"
      ],
      "metadata": {
        "id": "AcaBjhHlhCVe",
        "colab": {
          "base_uri": "https://localhost:8080/"
        },
        "outputId": "0dea5e85-a7b7-4275-c46b-deb669276e6b"
      },
      "execution_count": null,
      "outputs": [
        {
          "output_type": "stream",
          "name": "stdout",
          "text": [
            "25 5\n",
            "2\n"
          ]
        }
      ]
    },
    {
      "cell_type": "code",
      "source": [
        "# 두 번째 방법(숫자가 클 경우도 빠르게 계산)\n",
        "n, k = map(int, input().split())\n",
        "result = 0\n",
        "\n",
        "while True : \n",
        "  target = (n//k)*k\n",
        "  result += (n-target)\n",
        "  n = target\n",
        "\n",
        "  # n<k일 때 반복문 탈출\n",
        "  if n<k : \n",
        "    break\n",
        "\n",
        "  result += 1\n",
        "  n //= k\n",
        "\n",
        "result += (n-1)\n",
        "print(result)"
      ],
      "metadata": {
        "colab": {
          "base_uri": "https://localhost:8080/"
        },
        "id": "YcUUYJAUvMX7",
        "outputId": "9b2bcdc7-e390-4ced-b752-1f8e56f931f9"
      },
      "execution_count": null,
      "outputs": [
        {
          "output_type": "stream",
          "name": "stdout",
          "text": [
            "25 5\n",
            "2\n"
          ]
        }
      ]
    },
    {
      "cell_type": "code",
      "source": [
        "# 상하좌우로 움직이기\n",
        "# L(왼쪽으로 한 칸 이동), R(오른쪽으로 한 칸 이동)\n",
        "# U(위로 한 칸 이동), D(아래로 한 칸 이동)\n",
        "n = int(input())\n",
        "x, y = 1, 1\n",
        "plans = input().split()\n",
        "\n",
        "# L, R, U, D에 따른 이동방향\n",
        "dx = [0, 0, -1, 1]\n",
        "dy = [-1, 1, 0, 0]\n",
        "moving = ['L', 'R', 'U', 'D']\n",
        "\n",
        "# 이동 계획 하나씩 확인해보기\n",
        "for plan in plans : \n",
        "  for i in range(len(moving)) : \n",
        "    if plan == moving[i] : \n",
        "      nx = x + dx[i]\n",
        "      ny = y + dy[i]\n",
        "  # 공간을 벗어난 경우 무시하기\n",
        "  if nx<1 or ny<1 or nx>n or ny>n : \n",
        "    continue\n",
        "  # 이동하기\n",
        "  x, y = nx, ny\n",
        "\n",
        "print(x, y)"
      ],
      "metadata": {
        "colab": {
          "base_uri": "https://localhost:8080/"
        },
        "id": "wLyyC906xlCy",
        "outputId": "bc6d1a2e-6099-4e8b-e398-951e73eee066"
      },
      "execution_count": null,
      "outputs": [
        {
          "output_type": "stream",
          "name": "stdout",
          "text": [
            "5\n",
            "R R R U D D\n",
            "3 4\n"
          ]
        }
      ]
    },
    {
      "cell_type": "code",
      "source": [
        "# 3이 포함된 시각 : 완전탐색 예시\n",
        "n = int(input())\n",
        "count = 0\n",
        "\n",
        "for i in range(n+1) : \n",
        "  for j in range(60) : \n",
        "    for k in range(60) : \n",
        "      # 3이 포함되어있으면 count 증가\n",
        "      if '3' in str(i) + str(j) + str(k) : \n",
        "        count += 1\n",
        "\n",
        "print(count)"
      ],
      "metadata": {
        "colab": {
          "base_uri": "https://localhost:8080/"
        },
        "id": "OHlSNof49Jxp",
        "outputId": "95b9006e-1aef-45c5-889a-068776cc45d1"
      },
      "execution_count": null,
      "outputs": [
        {
          "output_type": "stream",
          "name": "stdout",
          "text": [
            "5\n",
            "11475\n"
          ]
        }
      ]
    },
    {
      "cell_type": "code",
      "source": [
        "# 왕실의 나이트 문제\n",
        "# 이동 경로\n",
        "# (-2,-1), (-1,-2), (2,-1), (2,1)\n",
        "# (1,2), (1,-2), (-1,2), (-2,1)\n",
        "\n",
        "# 현재 나이트의 위치 입력받기\n",
        "input_data = input()\n",
        "row = int(input_data[1])\n",
        "column = int(ord(input_data[0]))- int(ord('a'))+1\n",
        "\n",
        "# 나이트가 이동할 수 있는 방향\n",
        "movings = [(-2,-1), (-1,-2), (2,-1), (2,1),\n",
        "          (1,2), (1,-2), (-1,2), (-2,1)]\n",
        "\n",
        "# 이동 위치 확인해보기\n",
        "result = 0\n",
        "for moving in movings : \n",
        "  next_row = row + moving[0]\n",
        "  next_column = column + moving[1]\n",
        "  if next_row<1 or next_row>8 or next_column<1 or next_column>8 : \n",
        "    continue\n",
        "  result += 1\n",
        "\n",
        "print(result) "
      ],
      "metadata": {
        "colab": {
          "base_uri": "https://localhost:8080/"
        },
        "id": "AaIYlEi4nG3h",
        "outputId": "eb789d84-1beb-4c0f-9460-85173016985b"
      },
      "execution_count": 16,
      "outputs": [
        {
          "output_type": "stream",
          "name": "stdout",
          "text": [
            "a1\n",
            "2\n"
          ]
        }
      ]
    },
    {
      "cell_type": "code",
      "source": [
        "# 게임 개발 문제\n",
        "n, m = map(int, input().split())\n",
        "\n",
        "# 맵을 0으로 초기화하기\n",
        "d = [[0]*m for _ in range(n)]\n",
        "# 현재캐릭터의 x,y좌표 및 방향 입력받기\n",
        "x, y, direction = map(int, input().split())"
      ],
      "metadata": {
        "colab": {
          "base_uri": "https://localhost:8080/"
        },
        "id": "rTc2Z7xZruIs",
        "outputId": "1c6a0aae-e073-4773-fa0d-3259e6e3bfed"
      },
      "execution_count": 33,
      "outputs": [
        {
          "name": "stdout",
          "output_type": "stream",
          "text": [
            "4 4\n",
            "1 1 0\n"
          ]
        }
      ]
    }
  ]
}