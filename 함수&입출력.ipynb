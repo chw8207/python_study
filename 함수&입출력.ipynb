{
  "nbformat": 4,
  "nbformat_minor": 0,
  "metadata": {
    "colab": {
      "provenance": [],
      "mount_file_id": "1t9CrZbLPs3etfkeRGTsP9GSsgbkuntrR",
      "authorship_tag": "ABX9TyNXvpZmRSNBHDbuCkVLK5uF",
      "include_colab_link": true
    },
    "kernelspec": {
      "name": "python3",
      "display_name": "Python 3"
    },
    "language_info": {
      "name": "python"
    }
  },
  "cells": [
    {
      "cell_type": "markdown",
      "metadata": {
        "id": "view-in-github",
        "colab_type": "text"
      },
      "source": [
        "<a href=\"https://colab.research.google.com/github/chw8207/python_study/blob/main/%ED%95%A8%EC%88%98%26%EC%9E%85%EC%B6%9C%EB%A0%A5.ipynb\" target=\"_parent\"><img src=\"https://colab.research.google.com/assets/colab-badge.svg\" alt=\"Open In Colab\"/></a>"
      ]
    },
    {
      "cell_type": "code",
      "execution_count": 1,
      "metadata": {
        "colab": {
          "base_uri": "https://localhost:8080/"
        },
        "id": "aJa5R-Bqio5U",
        "outputId": "c378e207-b037-4819-e110-efede6d899c8"
      },
      "outputs": [
        {
          "output_type": "stream",
          "name": "stdout",
          "text": [
            "함수의 결과: 10\n"
          ]
        }
      ],
      "source": [
        "# 인자 a, b를 지칭해서 값을 넣기\n",
        "def add(a,b) : \n",
        "  print('함수의 결과:', a+b)\n",
        "\n",
        "add(b=3, a=7)"
      ]
    },
    {
      "cell_type": "code",
      "source": [
        "# 함수 안에서 함수 밖의 데이터 변경하기 : global()\n",
        "a = 0\n",
        "\n",
        "def func() : \n",
        "  global a\n",
        "  a += 1\n",
        "\n",
        "for i in range(10) : \n",
        "  func()\n",
        "\n",
        "print(a)"
      ],
      "metadata": {
        "colab": {
          "base_uri": "https://localhost:8080/"
        },
        "id": "ODDkYlmtjkNW",
        "outputId": "51214865-1f4a-4f92-85a9-71563d4f3db6"
      },
      "execution_count": 5,
      "outputs": [
        {
          "output_type": "stream",
          "name": "stdout",
          "text": [
            "10\n"
          ]
        }
      ]
    },
    {
      "cell_type": "code",
      "source": [
        "# 람다 표현식\n",
        "def add(a, b) : \n",
        "  return a+b\n",
        "\n",
        "# 람다 표현식으로 구현한 add() 메서드\n",
        "print((lambda a, b: a+b)(3, 7))"
      ],
      "metadata": {
        "colab": {
          "base_uri": "https://localhost:8080/"
        },
        "id": "z2uWJIBdrLZp",
        "outputId": "d3110ae9-03dc-44ed-ae91-2395d2a6e165"
      },
      "execution_count": 18,
      "outputs": [
        {
          "output_type": "stream",
          "name": "stdout",
          "text": [
            "10\n"
          ]
        }
      ]
    }
  ]
}