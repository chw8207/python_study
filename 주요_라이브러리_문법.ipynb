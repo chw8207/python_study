{
  "nbformat": 4,
  "nbformat_minor": 0,
  "metadata": {
    "colab": {
      "provenance": [],
      "mount_file_id": "1xjAvhOh6MxOgFhfyuaHOmPO_us5Gwm4a",
      "authorship_tag": "ABX9TyM3m6fdphWMz+epvG1f2vXy",
      "include_colab_link": true
    },
    "kernelspec": {
      "name": "python3",
      "display_name": "Python 3"
    },
    "language_info": {
      "name": "python"
    }
  },
  "cells": [
    {
      "cell_type": "markdown",
      "metadata": {
        "id": "view-in-github",
        "colab_type": "text"
      },
      "source": [
        "<a href=\"https://colab.research.google.com/github/chw8207/python_study/blob/main/%EC%A3%BC%EC%9A%94_%EB%9D%BC%EC%9D%B4%EB%B8%8C%EB%9F%AC%EB%A6%AC_%EB%AC%B8%EB%B2%95.ipynb\" target=\"_parent\"><img src=\"https://colab.research.google.com/assets/colab-badge.svg\" alt=\"Open In Colab\"/></a>"
      ]
    },
    {
      "cell_type": "markdown",
      "source": [
        "### 내장함수"
      ],
      "metadata": {
        "id": "niHMpVjuP_94"
      }
    },
    {
      "cell_type": "code",
      "execution_count": 2,
      "metadata": {
        "colab": {
          "base_uri": "https://localhost:8080/"
        },
        "id": "kwMeSQM7PfzM",
        "outputId": "932473e2-5ddd-43cb-bde9-d67e60e33e4d"
      },
      "outputs": [
        {
          "output_type": "stream",
          "name": "stdout",
          "text": [
            "56\n"
          ]
        }
      ],
      "source": [
        "# eval() : 수학 수식이 문자열 형식으로 들어오면 해당 수식을 계산한 결과를 반환\n",
        "result = eval('(3+5)*7')\n",
        "print(result)"
      ]
    },
    {
      "cell_type": "code",
      "source": [
        "result = sorted([('홍길동', 35), ('이순신', 75), ('아무개', 50)], key = lambda x : x[1],\n",
        "                reverse = True)\n",
        "print(result)"
      ],
      "metadata": {
        "colab": {
          "base_uri": "https://localhost:8080/"
        },
        "id": "HwnnNCYRQCha",
        "outputId": "1d92dde0-6fec-40b8-ed39-c97142bff8e5"
      },
      "execution_count": 3,
      "outputs": [
        {
          "output_type": "stream",
          "name": "stdout",
          "text": [
            "[('이순신', 75), ('아무개', 50), ('홍길동', 35)]\n"
          ]
        }
      ]
    }
  ]
}