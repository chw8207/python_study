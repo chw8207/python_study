{
  "nbformat": 4,
  "nbformat_minor": 0,
  "metadata": {
    "colab": {
      "provenance": [],
      "mount_file_id": "1xjAvhOh6MxOgFhfyuaHOmPO_us5Gwm4a",
      "authorship_tag": "ABX9TyO+fkJ5OpH3NahZTcOLboyg",
      "include_colab_link": true
    },
    "kernelspec": {
      "name": "python3",
      "display_name": "Python 3"
    },
    "language_info": {
      "name": "python"
    }
  },
  "cells": [
    {
      "cell_type": "markdown",
      "metadata": {
        "id": "view-in-github",
        "colab_type": "text"
      },
      "source": [
        "<a href=\"https://colab.research.google.com/github/chw8207/python_study/blob/main/%EC%A3%BC%EC%9A%94_%EB%9D%BC%EC%9D%B4%EB%B8%8C%EB%9F%AC%EB%A6%AC_%EB%AC%B8%EB%B2%95.ipynb\" target=\"_parent\"><img src=\"https://colab.research.google.com/assets/colab-badge.svg\" alt=\"Open In Colab\"/></a>"
      ]
    },
    {
      "cell_type": "markdown",
      "source": [
        "### 내장함수"
      ],
      "metadata": {
        "id": "niHMpVjuP_94"
      }
    },
    {
      "cell_type": "code",
      "execution_count": null,
      "metadata": {
        "colab": {
          "base_uri": "https://localhost:8080/"
        },
        "id": "kwMeSQM7PfzM",
        "outputId": "932473e2-5ddd-43cb-bde9-d67e60e33e4d"
      },
      "outputs": [
        {
          "output_type": "stream",
          "name": "stdout",
          "text": [
            "56\n"
          ]
        }
      ],
      "source": [
        "# eval() : 수학 수식이 문자열 형식으로 들어오면 해당 수식을 계산한 결과를 반환\n",
        "result = eval('(3+5)*7')\n",
        "print(result)"
      ]
    },
    {
      "cell_type": "code",
      "source": [
        "result = sorted([('홍길동', 35), ('이순신', 75), ('아무개', 50)], key = lambda x : x[1],\n",
        "                reverse = True)\n",
        "print(result)"
      ],
      "metadata": {
        "colab": {
          "base_uri": "https://localhost:8080/"
        },
        "id": "HwnnNCYRQCha",
        "outputId": "1d92dde0-6fec-40b8-ed39-c97142bff8e5"
      },
      "execution_count": null,
      "outputs": [
        {
          "output_type": "stream",
          "name": "stdout",
          "text": [
            "[('이순신', 75), ('아무개', 50), ('홍길동', 35)]\n"
          ]
        }
      ]
    },
    {
      "cell_type": "markdown",
      "source": [
        "### itertools\n",
        " - 반복되는 데이터를 처리하는 기능을 포함한 라이브러리\n",
        " - permutations, combinations"
      ],
      "metadata": {
        "id": "xsYEGR-9RmGH"
      }
    },
    {
      "cell_type": "code",
      "source": [
        "# 리스트에서 3개를 뽑아 나열하는 모든 경우 출력\n",
        "from itertools import permutations\n",
        "\n",
        "# 데이터 준비\n",
        "data = ['A', 'B', 'C']\n",
        "\n",
        "# 모든 순열 구하기\n",
        "result = list(permutations(data, 3))\n",
        "print(result)"
      ],
      "metadata": {
        "colab": {
          "base_uri": "https://localhost:8080/"
        },
        "id": "YTzi03BCRrq7",
        "outputId": "ea3e7adc-d30b-47cc-8777-450381664097"
      },
      "execution_count": null,
      "outputs": [
        {
          "output_type": "stream",
          "name": "stdout",
          "text": [
            "[('A', 'B', 'C'), ('A', 'C', 'B'), ('B', 'A', 'C'), ('B', 'C', 'A'), ('C', 'A', 'B'), ('C', 'B', 'A')]\n"
          ]
        }
      ]
    },
    {
      "cell_type": "code",
      "source": [
        "# 리스트에서 2개를 뽑아 순서상관없이 나열하는 경우 출력\n",
        "from itertools import combinations\n",
        "\n",
        "# 데이터 준비\n",
        "data = ['A', 'B', 'C']\n",
        "\n",
        "# 조합 구하기\n",
        "result = list(combinations(data, 2))\n",
        "print(result)"
      ],
      "metadata": {
        "colab": {
          "base_uri": "https://localhost:8080/"
        },
        "id": "hyJNyJEgSN-O",
        "outputId": "3ef01224-4d64-41b0-e935-25a55a45f425"
      },
      "execution_count": null,
      "outputs": [
        {
          "output_type": "stream",
          "name": "stdout",
          "text": [
            "[('A', 'B'), ('A', 'C'), ('B', 'C')]\n"
          ]
        }
      ]
    },
    {
      "cell_type": "code",
      "source": [
        "# product : 순열 계산(중복 허용)\n",
        "# repeat : 뽑고자 하는 데이터 수 설정\n",
        "from itertools import product\n",
        "\n",
        "# 데이터 준비\n",
        "data = ['A', 'B', 'C']\n",
        "\n",
        "# 중복 허용한 순열 구하기\n",
        "result = list(product(data, repeat=2))\n",
        "print(result)"
      ],
      "metadata": {
        "colab": {
          "base_uri": "https://localhost:8080/"
        },
        "id": "Az-BkRMMSnQW",
        "outputId": "e813a692-0664-4583-adc1-0d36c829789f"
      },
      "execution_count": null,
      "outputs": [
        {
          "output_type": "stream",
          "name": "stdout",
          "text": [
            "[('A', 'A'), ('A', 'B'), ('A', 'C'), ('B', 'A'), ('B', 'B'), ('B', 'C'), ('C', 'A'), ('C', 'B'), ('C', 'C')]\n"
          ]
        }
      ]
    },
    {
      "cell_type": "code",
      "source": [
        "# combinations_with_replacement : 조합(중복 허용)\n",
        "from itertools import combinations_with_replacement\n",
        "\n",
        "# 데이터 준비\n",
        "data = ['A', 'B', 'C']\n",
        "\n",
        "# 중복 허용한 조합 구하기\n",
        "result = list(combinations_with_replacement(data, 2))\n",
        "print(result)"
      ],
      "metadata": {
        "colab": {
          "base_uri": "https://localhost:8080/"
        },
        "id": "mz0Y3NatTI46",
        "outputId": "34e79576-a908-44fe-ea09-1fb487cca64b"
      },
      "execution_count": null,
      "outputs": [
        {
          "output_type": "stream",
          "name": "stdout",
          "text": [
            "[('A', 'A'), ('A', 'B'), ('A', 'C'), ('B', 'B'), ('B', 'C'), ('C', 'C')]\n"
          ]
        }
      ]
    },
    {
      "cell_type": "markdown",
      "source": [
        "### heapq\n",
        " - 우선순위 큐 기능 구현할 때 사용"
      ],
      "metadata": {
        "id": "GxRY3KlRWFGi"
      }
    },
    {
      "cell_type": "code",
      "source": [
        "# 힙(heap) 예제\n",
        "import heapq\n",
        "\n",
        "def heapsort(iterable) : \n",
        "  h = []\n",
        "  result = []\n",
        "  # 모든 원소를 차례대로 힙에 삽입\n",
        "  for value in iterable : \n",
        "    heapq.heappush(h, value)\n",
        "  # 힙에 삽입된 모든 원소를 차례대로 꺼내어 담기\n",
        "  for _ in range(len(h)) : \n",
        "    result.append(heapq.heappop(h))\n",
        "  return result\n",
        "\n",
        "result = heapsort([1, 3, 5, 7, 9, 2, 4, 6, 8, 0]) \n",
        "print(result)"
      ],
      "metadata": {
        "colab": {
          "base_uri": "https://localhost:8080/"
        },
        "id": "zwqXwl6pWKrE",
        "outputId": "5faeb485-f921-4fe8-f8e4-5f90550c6104"
      },
      "execution_count": null,
      "outputs": [
        {
          "output_type": "stream",
          "name": "stdout",
          "text": [
            "[0, 1, 2, 3, 4, 5, 6, 7, 8, 9]\n"
          ]
        }
      ]
    },
    {
      "cell_type": "code",
      "source": [
        "# 내림차순 힙 정렬 구현하기\n",
        "import heapq\n",
        "\n",
        "def heapsort(iterable) : \n",
        "  h = []\n",
        "  result = []\n",
        "  # 모든 원소를 차례대로 힙에 삽입\n",
        "  for value in iterable : \n",
        "    heapq.heappush(h, -value)\n",
        "  # 힙에 삽입된 모든 원소를 차례대로 꺼내어 담기\n",
        "  for _ in range(len(h)) : \n",
        "    result.append(-heapq.heappop(h))\n",
        "  return result\n",
        "\n",
        "result = heapsort([1, 3, 5, 7, 9, 2, 4, 6, 8, 0])\n",
        "print(result)"
      ],
      "metadata": {
        "colab": {
          "base_uri": "https://localhost:8080/"
        },
        "id": "6TPksGSEZDEx",
        "outputId": "9a08c27c-ff6b-46b9-be84-a3a7b7a5d3c9"
      },
      "execution_count": null,
      "outputs": [
        {
          "output_type": "stream",
          "name": "stdout",
          "text": [
            "[9, 8, 7, 6, 5, 4, 3, 2, 1, 0]\n"
          ]
        }
      ]
    },
    {
      "cell_type": "markdown",
      "source": [
        "### bisect\n",
        " - 이진탐색을 쉽게 구현할 수 있게 함\n",
        " - 정렬될 배열에서 특정한 원소를 찾아야 할 때 효과적임\n",
        " - bisect_left(a, x)\n",
        "  - 정렬된 순서를 유지하면서 리스트 a에 데이터 x를 삽입할 가장 왼쪽 인덱스를 찾는 메서드\n",
        " - bisect_right(a, x)\n",
        "  - 정렬된 순서를 유지하면서 리스트 a에 데이터 x를 삽입할 가장 오른쪽 인덱스를 찾는 메서드"
      ],
      "metadata": {
        "id": "sdJJ32mieixX"
      }
    },
    {
      "cell_type": "code",
      "source": [
        "# bisect 예시\n",
        "from bisect import bisect_left, bisect_right\n",
        "\n",
        "a = [1, 2, 4, 4, 8]\n",
        "x = 4\n",
        "\n",
        "print(bisect_left(a, x))\n",
        "print(bisect_right(a, x))"
      ],
      "metadata": {
        "colab": {
          "base_uri": "https://localhost:8080/"
        },
        "id": "hVuk_JEaemlE",
        "outputId": "094beb00-264a-419a-db38-d738d4e8ec5f"
      },
      "execution_count": null,
      "outputs": [
        {
          "output_type": "stream",
          "name": "stdout",
          "text": [
            "2\n",
            "4\n"
          ]
        }
      ]
    },
    {
      "cell_type": "code",
      "source": [
        "from bisect import bisect_left, bisect_right\n",
        "\n",
        "# 값이 [left_value, right_value]인 데이터의 개수를 반환하는 함수\n",
        "def count_by_range(a, left_value, right_value) : \n",
        "  right_index = bisect_right(a, right_value)\n",
        "  left_index = bisect_left(a, left_value)\n",
        "  return right_index - left_index\n",
        "\n",
        "# 리스트 선언\n",
        "a = [1, 2, 3, 3, 3, 3, 4, 4, 8, 9]\n",
        "\n",
        "# 값이 4인 데이터 개수 출력\n",
        "print(count_by_range(a,4,4))\n",
        "\n",
        "# 값이 [-1, 3] 범위에 있는 데이터 개수 출력\n",
        "print(count_by_range(a, -1, 3))"
      ],
      "metadata": {
        "colab": {
          "base_uri": "https://localhost:8080/"
        },
        "id": "PfZYpR_Af4ML",
        "outputId": "5e16ec4c-2391-4ddb-8472-503060b124d5"
      },
      "execution_count": null,
      "outputs": [
        {
          "output_type": "stream",
          "name": "stdout",
          "text": [
            "2\n",
            "6\n"
          ]
        }
      ]
    },
    {
      "cell_type": "markdown",
      "source": [
        "### collections\n",
        " - deque, Counter\n",
        " - 원소 삽입할 때 : append() \n",
        " - 원소 삭제할 때 : popleft()"
      ],
      "metadata": {
        "id": "msRiKpvEtdJ2"
      }
    },
    {
      "cell_type": "code",
      "source": [
        "# 예시코드(deque)\n",
        "from collections import deque\n",
        "\n",
        "data = deque([2, 3, 4])\n",
        "# 가장 왼쪽에 원소 삽입\n",
        "data.appendleft(1)\n",
        "# 가장 오른쪽에 원소 삽입\n",
        "data.append(5)\n",
        "\n",
        "print(data)\n",
        "# 리스트 자료형으로 변환\n",
        "print(list(data))"
      ],
      "metadata": {
        "colab": {
          "base_uri": "https://localhost:8080/"
        },
        "id": "Dmyjbkpth-v8",
        "outputId": "bac040fe-6c05-48ad-a82a-f54006a592b9"
      },
      "execution_count": 2,
      "outputs": [
        {
          "output_type": "stream",
          "name": "stdout",
          "text": [
            "deque([1, 2, 3, 4, 5])\n",
            "[1, 2, 3, 4, 5]\n"
          ]
        }
      ]
    },
    {
      "cell_type": "code",
      "source": [
        "# 예시코드(Counter)\n",
        "from collections import Counter\n",
        "\n",
        "counter = Counter(['red', 'blue', 'red', 'green', 'blue', 'blue'])\n",
        "\n",
        "# 'blue'가 등장한 횟수 출력\n",
        "print(counter['blue'])\n",
        "# 'green'이 등장한 횟수 출력\n",
        "print(counter['green'])\n",
        "# 'red'가 등장한 횟수 출력\n",
        "print(counter['red'])"
      ],
      "metadata": {
        "colab": {
          "base_uri": "https://localhost:8080/"
        },
        "id": "moyo_YJ4jCXK",
        "outputId": "592698c3-7a7d-4a9d-f34c-aa82e487477d"
      },
      "execution_count": 5,
      "outputs": [
        {
          "output_type": "stream",
          "name": "stdout",
          "text": [
            "3\n",
            "1\n",
            "2\n"
          ]
        }
      ]
    },
    {
      "cell_type": "markdown",
      "source": [
        "### math"
      ],
      "metadata": {
        "id": "abQTr61UkOdg"
      }
    },
    {
      "cell_type": "code",
      "source": [
        "# 팩토리얼 함수\n",
        "import math\n",
        "print(math.factorial(5))"
      ],
      "metadata": {
        "colab": {
          "base_uri": "https://localhost:8080/"
        },
        "id": "YAO8h9mhkP3A",
        "outputId": "6052293a-6851-4003-891c-99264d61c137"
      },
      "execution_count": 6,
      "outputs": [
        {
          "output_type": "stream",
          "name": "stdout",
          "text": [
            "120\n"
          ]
        }
      ]
    }
  ]
}