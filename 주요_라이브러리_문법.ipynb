{
  "nbformat": 4,
  "nbformat_minor": 0,
  "metadata": {
    "colab": {
      "provenance": [],
      "mount_file_id": "1xjAvhOh6MxOgFhfyuaHOmPO_us5Gwm4a",
      "authorship_tag": "ABX9TyO0MbDn3t1dIeuh9kfqwUmP",
      "include_colab_link": true
    },
    "kernelspec": {
      "name": "python3",
      "display_name": "Python 3"
    },
    "language_info": {
      "name": "python"
    }
  },
  "cells": [
    {
      "cell_type": "markdown",
      "metadata": {
        "id": "view-in-github",
        "colab_type": "text"
      },
      "source": [
        "<a href=\"https://colab.research.google.com/github/chw8207/python_study/blob/main/%EC%A3%BC%EC%9A%94_%EB%9D%BC%EC%9D%B4%EB%B8%8C%EB%9F%AC%EB%A6%AC_%EB%AC%B8%EB%B2%95.ipynb\" target=\"_parent\"><img src=\"https://colab.research.google.com/assets/colab-badge.svg\" alt=\"Open In Colab\"/></a>"
      ]
    },
    {
      "cell_type": "markdown",
      "source": [
        "### 내장함수"
      ],
      "metadata": {
        "id": "niHMpVjuP_94"
      }
    },
    {
      "cell_type": "code",
      "execution_count": 2,
      "metadata": {
        "colab": {
          "base_uri": "https://localhost:8080/"
        },
        "id": "kwMeSQM7PfzM",
        "outputId": "932473e2-5ddd-43cb-bde9-d67e60e33e4d"
      },
      "outputs": [
        {
          "output_type": "stream",
          "name": "stdout",
          "text": [
            "56\n"
          ]
        }
      ],
      "source": [
        "# eval() : 수학 수식이 문자열 형식으로 들어오면 해당 수식을 계산한 결과를 반환\n",
        "result = eval('(3+5)*7')\n",
        "print(result)"
      ]
    },
    {
      "cell_type": "code",
      "source": [
        "result = sorted([('홍길동', 35), ('이순신', 75), ('아무개', 50)], key = lambda x : x[1],\n",
        "                reverse = True)\n",
        "print(result)"
      ],
      "metadata": {
        "colab": {
          "base_uri": "https://localhost:8080/"
        },
        "id": "HwnnNCYRQCha",
        "outputId": "1d92dde0-6fec-40b8-ed39-c97142bff8e5"
      },
      "execution_count": 3,
      "outputs": [
        {
          "output_type": "stream",
          "name": "stdout",
          "text": [
            "[('이순신', 75), ('아무개', 50), ('홍길동', 35)]\n"
          ]
        }
      ]
    },
    {
      "cell_type": "markdown",
      "source": [
        "### itertools\n",
        " - 반복되는 데이터를 처리하는 기능을 포함한 라이브러리\n",
        " - permutations, combinations"
      ],
      "metadata": {
        "id": "xsYEGR-9RmGH"
      }
    },
    {
      "cell_type": "code",
      "source": [
        "# 리스트에서 3개를 뽑아 나열하는 모든 경우 출력\n",
        "from itertools import permutations\n",
        "\n",
        "# 데이터 준비\n",
        "data = ['A', 'B', 'C']\n",
        "\n",
        "# 모든 순열 구하기\n",
        "result = list(permutations(data, 3))\n",
        "print(result)"
      ],
      "metadata": {
        "colab": {
          "base_uri": "https://localhost:8080/"
        },
        "id": "YTzi03BCRrq7",
        "outputId": "ea3e7adc-d30b-47cc-8777-450381664097"
      },
      "execution_count": 4,
      "outputs": [
        {
          "output_type": "stream",
          "name": "stdout",
          "text": [
            "[('A', 'B', 'C'), ('A', 'C', 'B'), ('B', 'A', 'C'), ('B', 'C', 'A'), ('C', 'A', 'B'), ('C', 'B', 'A')]\n"
          ]
        }
      ]
    },
    {
      "cell_type": "code",
      "source": [
        "# 리스트에서 2개를 뽑아 순서상관없이 나열하는 경우 출력\n",
        "from itertools import combinations\n",
        "\n",
        "# 데이터 준비\n",
        "data = ['A', 'B', 'C']\n",
        "\n",
        "# 조합 구하기\n",
        "result = list(combinations(data, 2))\n",
        "print(result)"
      ],
      "metadata": {
        "colab": {
          "base_uri": "https://localhost:8080/"
        },
        "id": "hyJNyJEgSN-O",
        "outputId": "3ef01224-4d64-41b0-e935-25a55a45f425"
      },
      "execution_count": 6,
      "outputs": [
        {
          "output_type": "stream",
          "name": "stdout",
          "text": [
            "[('A', 'B'), ('A', 'C'), ('B', 'C')]\n"
          ]
        }
      ]
    }
  ]
}