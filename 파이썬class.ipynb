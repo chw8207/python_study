{
  "nbformat": 4,
  "nbformat_minor": 0,
  "metadata": {
    "colab": {
      "provenance": [],
      "mount_file_id": "1Br2BU-Zknn4sclSnvCpcDRmn3X6WATju",
      "authorship_tag": "ABX9TyMr71PaTsWHd5IK7V7+2CXv",
      "include_colab_link": true
    },
    "kernelspec": {
      "name": "python3",
      "display_name": "Python 3"
    },
    "language_info": {
      "name": "python"
    },
    "accelerator": "GPU",
    "gpuClass": "standard"
  },
  "cells": [
    {
      "cell_type": "markdown",
      "metadata": {
        "id": "view-in-github",
        "colab_type": "text"
      },
      "source": [
        "<a href=\"https://colab.research.google.com/github/chw8207/python_study/blob/main/%ED%8C%8C%EC%9D%B4%EC%8D%ACclass.ipynb\" target=\"_parent\"><img src=\"https://colab.research.google.com/assets/colab-badge.svg\" alt=\"Open In Colab\"/></a>"
      ]
    },
    {
      "cell_type": "code",
      "execution_count": 1,
      "metadata": {
        "id": "eU7jgyZrR0Ch"
      },
      "outputs": [],
      "source": [
        "# 파이썬 클래스의 간단한 예시\n",
        "class Cookie : \n",
        "  pass"
      ]
    },
    {
      "cell_type": "code",
      "source": [
        "# 객체 만들기\n",
        "a = Cookie()\n",
        "b = Cookie()"
      ],
      "metadata": {
        "id": "nawTD8gXSLR3"
      },
      "execution_count": null,
      "outputs": []
    }
  ]
}