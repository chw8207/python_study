{
  "nbformat": 4,
  "nbformat_minor": 0,
  "metadata": {
    "colab": {
      "provenance": [],
      "mount_file_id": "1zCHyuHnSsl7jGFhJe65FT-hHT7ENvYpF",
      "authorship_tag": "ABX9TyP/i3WFdryHJ/9voWy633Wo",
      "include_colab_link": true
    },
    "kernelspec": {
      "name": "python3",
      "display_name": "Python 3"
    },
    "language_info": {
      "name": "python"
    }
  },
  "cells": [
    {
      "cell_type": "markdown",
      "metadata": {
        "id": "view-in-github",
        "colab_type": "text"
      },
      "source": [
        "<a href=\"https://colab.research.google.com/github/chw8207/python_study/blob/main/%EC%A1%B0%EA%B1%B4%EB%AC%B8%26%EB%B0%98%EB%B3%B5%EB%AC%B8.ipynb\" target=\"_parent\"><img src=\"https://colab.research.google.com/assets/colab-badge.svg\" alt=\"Open In Colab\"/></a>"
      ]
    },
    {
      "cell_type": "markdown",
      "source": [
        "### 조건문"
      ],
      "metadata": {
        "id": "vHviZVSIgSqe"
      }
    },
    {
      "cell_type": "code",
      "execution_count": 1,
      "metadata": {
        "colab": {
          "base_uri": "https://localhost:8080/"
        },
        "id": "c1gkyVBdd-_7",
        "outputId": "4d60b00e-2aae-47c4-a523-203d65c63315"
      },
      "outputs": [
        {
          "output_type": "stream",
          "name": "stdout",
          "text": [
            "Success\n"
          ]
        }
      ],
      "source": [
        "# 점수가 80이상이면 Success 출력하고\n",
        "# 그렇지 않으면 Fail 출력하기\n",
        "# 원래 표현식\n",
        "score = 85\n",
        "\n",
        "if score>=80 : \n",
        "  print('Success')\n",
        "else : \n",
        "  print('Fail')"
      ]
    },
    {
      "cell_type": "code",
      "source": [
        "# 조건문에서 실행될 소스코드가 한 줄일 경우 간략하게 표현\n",
        "score = 85\n",
        "\n",
        "if score>=80 : result = 'Success'\n",
        "else : result = 'Fail'\n",
        "print(result)"
      ],
      "metadata": {
        "colab": {
          "base_uri": "https://localhost:8080/"
        },
        "id": "PqWsgp_Eel_1",
        "outputId": "2b76b4e4-b620-4aa3-c006-0b67d3c44e8e"
      },
      "execution_count": 4,
      "outputs": [
        {
          "output_type": "stream",
          "name": "stdout",
          "text": [
            "Success\n"
          ]
        }
      ]
    },
    {
      "cell_type": "code",
      "source": [
        "# 조건부 표현식으로 작성하기\n",
        "score = 85\n",
        "\n",
        "result = 'Success' if score>=80 else 'Fail'\n",
        "print(result)"
      ],
      "metadata": {
        "colab": {
          "base_uri": "https://localhost:8080/"
        },
        "id": "xr8mjGVDfCc8",
        "outputId": "99d47c4d-0c16-4f63-bd99-d31fc71cee04"
      },
      "execution_count": 5,
      "outputs": [
        {
          "output_type": "stream",
          "name": "stdout",
          "text": [
            "Success\n"
          ]
        }
      ]
    },
    {
      "cell_type": "markdown",
      "source": [
        "### 반복문"
      ],
      "metadata": {
        "id": "KEQyY_5CgVRG"
      }
    },
    {
      "cell_type": "code",
      "source": [
        "# 1~9 중 홀수만 더하기\n",
        "i = 1\n",
        "sum = 0\n",
        "\n",
        "while i<=9 : \n",
        "  if i%2 !=0 :\n",
        "    sum += i\n",
        "  i += 1\n",
        "\n",
        "print(sum)"
      ],
      "metadata": {
        "colab": {
          "base_uri": "https://localhost:8080/"
        },
        "id": "73jPOewAgW41",
        "outputId": "d8902e06-55c4-4890-bb21-d8ea12fefb8d"
      },
      "execution_count": 6,
      "outputs": [
        {
          "output_type": "stream",
          "name": "stdout",
          "text": [
            "25\n"
          ]
        }
      ]
    }
  ]
}