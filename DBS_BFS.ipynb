{
  "nbformat": 4,
  "nbformat_minor": 0,
  "metadata": {
    "colab": {
      "provenance": [],
      "mount_file_id": "1-g945bWbRmJVdUbU-pldRelXEvj6YS_o",
      "authorship_tag": "ABX9TyMgJeW4cNWgYvTaNMFImv+g",
      "include_colab_link": true
    },
    "kernelspec": {
      "name": "python3",
      "display_name": "Python 3"
    },
    "language_info": {
      "name": "python"
    }
  },
  "cells": [
    {
      "cell_type": "markdown",
      "metadata": {
        "id": "view-in-github",
        "colab_type": "text"
      },
      "source": [
        "<a href=\"https://colab.research.google.com/github/chw8207/python_study/blob/main/DBS_BFS.ipynb\" target=\"_parent\"><img src=\"https://colab.research.google.com/assets/colab-badge.svg\" alt=\"Open In Colab\"/></a>"
      ]
    },
    {
      "cell_type": "markdown",
      "source": [
        "### 스택구조"
      ],
      "metadata": {
        "id": "s4WOnWXJhyMR"
      }
    },
    {
      "cell_type": "code",
      "execution_count": 4,
      "metadata": {
        "colab": {
          "base_uri": "https://localhost:8080/"
        },
        "id": "G_gZXVZKhtbK",
        "outputId": "24b373cc-2127-4e79-b7ac-b642a1facbea"
      },
      "outputs": [
        {
          "output_type": "stream",
          "name": "stdout",
          "text": [
            "[5, 2, 3]\n",
            "[3, 2, 5]\n"
          ]
        }
      ],
      "source": [
        "# 스택 예시\n",
        "stack = []\n",
        "\n",
        "# 삽입(5)-삽입(2)-삽입(3)-삽입(7)\n",
        "# -삭제()-삽입(1)-삽입(4)-삭제()\n",
        "stack.append(5)\n",
        "stack.append(2)\n",
        "stack.append(3)\n",
        "stack.append(7)\n",
        "stack.pop()\n",
        "\n",
        "print(stack)        # 최하단 원소부터 출력\n",
        "print(stack[::-1])  # 최상단 원소부터 출력"
      ]
    }
  ]
}