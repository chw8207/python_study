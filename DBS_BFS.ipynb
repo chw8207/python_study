{
  "nbformat": 4,
  "nbformat_minor": 0,
  "metadata": {
    "colab": {
      "provenance": [],
      "mount_file_id": "1-g945bWbRmJVdUbU-pldRelXEvj6YS_o",
      "authorship_tag": "ABX9TyM8tidI9Zg3Hex099KLRKx3",
      "include_colab_link": true
    },
    "kernelspec": {
      "name": "python3",
      "display_name": "Python 3"
    },
    "language_info": {
      "name": "python"
    }
  },
  "cells": [
    {
      "cell_type": "markdown",
      "metadata": {
        "id": "view-in-github",
        "colab_type": "text"
      },
      "source": [
        "<a href=\"https://colab.research.google.com/github/chw8207/python_study/blob/main/DBS_BFS.ipynb\" target=\"_parent\"><img src=\"https://colab.research.google.com/assets/colab-badge.svg\" alt=\"Open In Colab\"/></a>"
      ]
    },
    {
      "cell_type": "markdown",
      "source": [
        "### 스택구조"
      ],
      "metadata": {
        "id": "s4WOnWXJhyMR"
      }
    },
    {
      "cell_type": "code",
      "execution_count": 6,
      "metadata": {
        "colab": {
          "base_uri": "https://localhost:8080/"
        },
        "id": "G_gZXVZKhtbK",
        "outputId": "ce518779-f220-4671-fbff-dc34dfe724a3"
      },
      "outputs": [
        {
          "output_type": "stream",
          "name": "stdout",
          "text": [
            "[5, 2, 3, 1]\n",
            "[1, 3, 2, 5]\n"
          ]
        }
      ],
      "source": [
        "# 스택 예시\n",
        "stack = []\n",
        "\n",
        "# 삽입(5)-삽입(2)-삽입(3)-삽입(7)\n",
        "# -삭제()-삽입(1)-삽입(4)-삭제()\n",
        "stack.append(5)\n",
        "stack.append(2)\n",
        "stack.append(3)\n",
        "stack.append(7)\n",
        "stack.pop()\n",
        "stack.append(1)\n",
        "stack.append(4)\n",
        "stack.pop()\n",
        "\n",
        "print(stack)        # 최하단 원소부터 출력\n",
        "print(stack[::-1])  # 최상단 원소부터 출력"
      ]
    },
    {
      "cell_type": "markdown",
      "source": [
        "### 큐 구조"
      ],
      "metadata": {
        "id": "-Ih8w9Nql9ti"
      }
    },
    {
      "cell_type": "code",
      "source": [
        "# 큐 예시\n",
        "from collections import deque\n",
        "\n",
        "# 큐(Queue) 구현을 위해 deque라이브러리 사용\n",
        "queue = deque()\n",
        "\n",
        "# 삽입(5)-삽입(2)-삽입(3)-삽입(7)\n",
        "# -삭제()-삽입(1)-삽입(4)-삭제()\n",
        "queue.append(5)\n",
        "queue.append(2)\n",
        "queue.append(3)\n",
        "queue.append(7)\n",
        "queue.popleft()\n",
        "queue.append(1)\n",
        "queue.append(4)\n",
        "queue.popleft()\n",
        "\n",
        "print(queue)     # 먼저 들어온 순서대로 출력\n",
        "queue.reverse()  # 다음 출력을 위해 역순으로 출력\n",
        "print(queue)"
      ],
      "metadata": {
        "colab": {
          "base_uri": "https://localhost:8080/"
        },
        "id": "nFZQpJTjl_Wh",
        "outputId": "ccebeeaf-efac-4604-9f88-60a07bc5c0fb"
      },
      "execution_count": 17,
      "outputs": [
        {
          "output_type": "stream",
          "name": "stdout",
          "text": [
            "deque([3, 7, 1, 4])\n",
            "deque([4, 1, 7, 3])\n"
          ]
        }
      ]
    },
    {
      "cell_type": "markdown",
      "source": [
        "### 재귀함수"
      ],
      "metadata": {
        "id": "wa9PTR_eosQv"
      }
    },
    {
      "cell_type": "code",
      "source": [
        "# 재귀함수 예시\n",
        "def recursive_function() : \n",
        "  print('재귀 함수를 호출합니다.')\n",
        "  recursive_function()\n",
        "\n",
        "recursive_function()"
      ],
      "metadata": {
        "id": "F1YOhgVVotga"
      },
      "execution_count": null,
      "outputs": []
    },
    {
      "cell_type": "code",
      "source": [
        "# 재귀함수 종료 예제\n",
        "def recursive_function(i) : \n",
        "  # 100번 째 출력했을 때 종료되도록 종료 조건 명시\n",
        "  if i==100 : \n",
        "    return\n",
        "  print(i, '번째 재귀 함수에서', i+1, '번째 재귀 함수를 호출합니다.')\n",
        "  recursive_function(i+1)\n",
        "  print(i, '번째 재귀 함수를 종료합니다.')\n",
        "\n",
        "recursive_function(1)"
      ],
      "metadata": {
        "id": "ll36g196pcOR"
      },
      "execution_count": null,
      "outputs": []
    }
  ]
}