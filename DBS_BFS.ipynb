{
  "nbformat": 4,
  "nbformat_minor": 0,
  "metadata": {
    "colab": {
      "provenance": [],
      "mount_file_id": "1-g945bWbRmJVdUbU-pldRelXEvj6YS_o",
      "authorship_tag": "ABX9TyMIfP2WyVwk2YvSbit08DC1",
      "include_colab_link": true
    },
    "kernelspec": {
      "name": "python3",
      "display_name": "Python 3"
    },
    "language_info": {
      "name": "python"
    }
  },
  "cells": [
    {
      "cell_type": "markdown",
      "metadata": {
        "id": "view-in-github",
        "colab_type": "text"
      },
      "source": [
        "<a href=\"https://colab.research.google.com/github/chw8207/python_study/blob/main/DBS_BFS.ipynb\" target=\"_parent\"><img src=\"https://colab.research.google.com/assets/colab-badge.svg\" alt=\"Open In Colab\"/></a>"
      ]
    },
    {
      "cell_type": "markdown",
      "source": [
        "### 스택구조"
      ],
      "metadata": {
        "id": "s4WOnWXJhyMR"
      }
    },
    {
      "cell_type": "code",
      "execution_count": null,
      "metadata": {
        "colab": {
          "base_uri": "https://localhost:8080/"
        },
        "id": "G_gZXVZKhtbK",
        "outputId": "ce518779-f220-4671-fbff-dc34dfe724a3"
      },
      "outputs": [
        {
          "output_type": "stream",
          "name": "stdout",
          "text": [
            "[5, 2, 3, 1]\n",
            "[1, 3, 2, 5]\n"
          ]
        }
      ],
      "source": [
        "# 스택 예시\n",
        "stack = []\n",
        "\n",
        "# 삽입(5)-삽입(2)-삽입(3)-삽입(7)\n",
        "# -삭제()-삽입(1)-삽입(4)-삭제()\n",
        "stack.append(5)\n",
        "stack.append(2)\n",
        "stack.append(3)\n",
        "stack.append(7)\n",
        "stack.pop()\n",
        "stack.append(1)\n",
        "stack.append(4)\n",
        "stack.pop()\n",
        "\n",
        "print(stack)        # 최하단 원소부터 출력\n",
        "print(stack[::-1])  # 최상단 원소부터 출력"
      ]
    },
    {
      "cell_type": "markdown",
      "source": [
        "### 큐 구조"
      ],
      "metadata": {
        "id": "-Ih8w9Nql9ti"
      }
    },
    {
      "cell_type": "code",
      "source": [
        "# 큐 예시\n",
        "from collections import deque\n",
        "\n",
        "# 큐(Queue) 구현을 위해 deque라이브러리 사용\n",
        "queue = deque()\n",
        "\n",
        "# 삽입(5)-삽입(2)-삽입(3)-삽입(7)\n",
        "# -삭제()-삽입(1)-삽입(4)-삭제()\n",
        "queue.append(5)\n",
        "queue.append(2)\n",
        "queue.append(3)\n",
        "queue.append(7)\n",
        "queue.popleft()\n",
        "queue.append(1)\n",
        "queue.append(4)\n",
        "queue.popleft()\n",
        "\n",
        "print(queue)     # 먼저 들어온 순서대로 출력\n",
        "queue.reverse()  # 다음 출력을 위해 역순으로 출력\n",
        "print(queue)"
      ],
      "metadata": {
        "colab": {
          "base_uri": "https://localhost:8080/"
        },
        "id": "nFZQpJTjl_Wh",
        "outputId": "ccebeeaf-efac-4604-9f88-60a07bc5c0fb"
      },
      "execution_count": null,
      "outputs": [
        {
          "output_type": "stream",
          "name": "stdout",
          "text": [
            "deque([3, 7, 1, 4])\n",
            "deque([4, 1, 7, 3])\n"
          ]
        }
      ]
    },
    {
      "cell_type": "markdown",
      "source": [
        "### 재귀함수"
      ],
      "metadata": {
        "id": "wa9PTR_eosQv"
      }
    },
    {
      "cell_type": "code",
      "source": [
        "# 재귀함수 예시\n",
        "def recursive_function() : \n",
        "  print('재귀 함수를 호출합니다.')\n",
        "  recursive_function()\n",
        "\n",
        "recursive_function()"
      ],
      "metadata": {
        "id": "F1YOhgVVotga"
      },
      "execution_count": null,
      "outputs": []
    },
    {
      "cell_type": "code",
      "source": [
        "# 재귀함수 종료 예제\n",
        "def recursive_function(i) : \n",
        "  # 100번 째 출력했을 때 종료되도록 종료 조건 명시\n",
        "  if i==100 : \n",
        "    return\n",
        "  print(i, '번째 재귀 함수에서', i+1, '번째 재귀 함수를 호출합니다.')\n",
        "  recursive_function(i+1)\n",
        "  print(i, '번째 재귀 함수를 종료합니다.')\n",
        "\n",
        "recursive_function(1)"
      ],
      "metadata": {
        "id": "ll36g196pcOR"
      },
      "execution_count": null,
      "outputs": []
    },
    {
      "cell_type": "code",
      "source": [
        "# 2가지 방식으로 구현한 팩토리얼 예제\n",
        "# 1. 반복문 활용하기\n",
        "def factorial_iterative(n) : \n",
        "  result = 1\n",
        "  for i in range(1, n+1) : \n",
        "    result *= i\n",
        "  return result\n",
        "\n",
        "# 2. 재귀함수 사용하기\n",
        "def factorial_recursive(n) : \n",
        "  if n<=1 : # n<=1이면 1반환 \n",
        "    return 1\n",
        "  # n! = n*(n-1)! 그대로 작성하기\n",
        "  return n * factorial_recursive(n-1)\n",
        "    \n",
        "\n",
        "print('반복적으로 구현:', factorial_iterative(5))\n",
        "print('재귀적으로 구현:', factorial_recursive(5))"
      ],
      "metadata": {
        "colab": {
          "base_uri": "https://localhost:8080/"
        },
        "id": "AIIkfw2Nr2eo",
        "outputId": "8b9bd7bc-25f6-474d-9371-38562ef328d5"
      },
      "execution_count": null,
      "outputs": [
        {
          "output_type": "stream",
          "name": "stdout",
          "text": [
            "반복적으로 구현: 120\n",
            "재귀적으로 구현: 120\n"
          ]
        }
      ]
    },
    {
      "cell_type": "markdown",
      "source": [
        "### DFS(Depth-First Search, 깊이 우선 탐색)\n",
        " - 그래프에서 깊은 부분을 우선적으로 탐색하는 알고리즘"
      ],
      "metadata": {
        "id": "L2WvyuhctCoJ"
      }
    },
    {
      "cell_type": "code",
      "source": [
        "# 1. 인접행렬방식\n",
        "# 무한의 비용 선언\n",
        "INF = 999999999\n",
        "\n",
        "# 2차원 리스트를 이용해 인접 행렬 표현\n",
        "graph = [\n",
        "    [0, 7, 5],\n",
        "    [7, 0, INF],\n",
        "    [5, INF, 0]\n",
        "    ]\n",
        "\n",
        "print(graph)"
      ],
      "metadata": {
        "colab": {
          "base_uri": "https://localhost:8080/"
        },
        "id": "e73Pq3ZYtLLO",
        "outputId": "6d9cd035-5e71-4918-f0ab-3b446701576f"
      },
      "execution_count": null,
      "outputs": [
        {
          "output_type": "stream",
          "name": "stdout",
          "text": [
            "[[0, 7, 5], [7, 0, 999999999], [5, 999999999, 0]]\n"
          ]
        }
      ]
    },
    {
      "cell_type": "code",
      "source": [
        "# 2. 인접리스트방식\n",
        "# 행이 3개인 2차원 리스트로 인접 리스트 표현\n",
        "graph = [[] for _ in range(3)]\n",
        "\n",
        "# 노드0에 연결된 노드 정보 저장(노드, 거리)\n",
        "graph[0].append((1,7))\n",
        "graph[0].append((2,5))\n",
        "\n",
        "# 노드1에 연결된 노드 정보 저장(노드, 거리)\n",
        "graph[1].append((0,7))\n",
        "\n",
        "# 노드2에 연결된 노드 정보 저장(노드, 거리)\n",
        "graph[2].append((0,5))\n",
        "\n",
        "print(graph)"
      ],
      "metadata": {
        "colab": {
          "base_uri": "https://localhost:8080/"
        },
        "id": "7fsOfGgFuVq0",
        "outputId": "fcae5344-b4d7-4892-8488-9b60c4dbc92b"
      },
      "execution_count": null,
      "outputs": [
        {
          "output_type": "stream",
          "name": "stdout",
          "text": [
            "[[(1, 7), (2, 5)], [(0, 7)], [(0, 5)]]\n"
          ]
        }
      ]
    },
    {
      "cell_type": "code",
      "source": [
        "# DFS 예시\n",
        "# DFS 메서드 정의\n",
        "def dfs(graph, v, visited) : \n",
        "  # 현재 노드를 방문 처리\n",
        "  visited[v] = True\n",
        "  print(v, end=' ')\n",
        "  # 현재 노드와 연결된 다른 노드를 재귀적으로 방문\n",
        "  for i in graph[v] : \n",
        "    if not visited[i] : \n",
        "      dfs(graph, i, visited)\n",
        "\n",
        "# 각 노드가 연결된 정보를 리스트 자료형으로 표현(2차형 리스트)\n",
        "graph = [\n",
        "    [],\n",
        "    [2, 3, 8],\n",
        "    [1, 7],\n",
        "    [1, 4, 5],\n",
        "    [3, 5],\n",
        "    [3, 4],\n",
        "    [7], \n",
        "    [2, 6, 8],\n",
        "    [1, 7]\n",
        "]\n",
        "\n",
        "# 각 노드가 방문된 정보를 리스트 자료형으로 표현(1차원 리스트)\n",
        "visited = [False]*9\n",
        "\n",
        "# 정의된 DFS함수 호출하기\n",
        "dfs(graph, 1, visited)"
      ],
      "metadata": {
        "colab": {
          "base_uri": "https://localhost:8080/"
        },
        "id": "2oTMRFJdc7j-",
        "outputId": "4d0a24cc-19b7-4a93-94ac-8e368b57ab20"
      },
      "execution_count": null,
      "outputs": [
        {
          "output_type": "stream",
          "name": "stdout",
          "text": [
            "1 2 7 6 8 3 4 5 "
          ]
        }
      ]
    },
    {
      "cell_type": "markdown",
      "source": [
        "### BFS(Breadth-First Search, 너비 우선 탐색)\n",
        " - 그래프에서 가까운 노드부터 우선적으로 탐색하는 알고리즘"
      ],
      "metadata": {
        "id": "BBGSGWxEe_aT"
      }
    },
    {
      "cell_type": "code",
      "source": [
        "# BFS 예시\n",
        "from collections import deque\n",
        "\n",
        "# BFS 메서드 정의\n",
        "def bfs(graph, start, visited) : \n",
        "  # 큐 구현을 위해 deque라이브러리 활용\n",
        "  queue = deque([start])\n",
        "  # 현재 노드를 방문 처리\n",
        "  visited[start] = True\n",
        "  # 큐가 빌 때까지 반복\n",
        "  while queue : \n",
        "    # 큐에서 하나의 원소를 뽑아 출력하기\n",
        "    v = queue.popleft()\n",
        "    print(v, end=' ')\n",
        "    # 해당 원소와 연결된, 아직 방문하지 않은 원소들을 큐에 삽입하기\n",
        "    for i in graph[v] : \n",
        "      if not visited[i] : \n",
        "        queue.append(i)\n",
        "        visited[i] = True\n",
        "\n",
        "# 각 노드가 연결된 정보를 2차원 리스트 자료형으로 표현하기\n",
        "graph = [\n",
        "    [],\n",
        "    [2, 3, 8],\n",
        "    [1, 7],\n",
        "    [1, 4, 5],\n",
        "    [3, 5],\n",
        "    [3, 4],\n",
        "    [7],\n",
        "    [2, 6, 8],\n",
        "    [1, 7]\n",
        "]\n",
        "\n",
        "# 각 노드가 방문된 정보를 1차원 리스트 자료형으로 표현하기\n",
        "visited = [False] * 9\n",
        "\n",
        "3bfs(graph, 1, visited)"
      ],
      "metadata": {
        "colab": {
          "base_uri": "https://localhost:8080/"
        },
        "id": "33-fX9Yze4nG",
        "outputId": "fc9442c9-8f35-4759-88d3-fe47846d27ae"
      },
      "execution_count": null,
      "outputs": [
        {
          "output_type": "stream",
          "name": "stdout",
          "text": [
            "1 2 3 8 7 4 5 6 "
          ]
        }
      ]
    },
    {
      "cell_type": "code",
      "source": [
        "# 음료수 얼려먹기-DFS 활용하기\n",
        "n, m = map(int, input().split())\n",
        "\n",
        "# 2차원 리스트의 맵 정보 입력받기\n",
        "graph = []\n",
        "for i in range(n) : \n",
        "  graph.append(list(map(int, input())))\n",
        "\n",
        "# DFS 구현하기\n",
        "def dfs(x, y) : \n",
        "  # 범위 벗어나면 바로 종료\n",
        "  if x<=-1 or x>=n or y<=-1 or y>=m : \n",
        "    return False\n",
        "  # 현재 노드 방문하지 않았을 시\n",
        "  if graph[x][y] == 0 : \n",
        "    # 그래프 방문 처리\n",
        "    graph[x][y] = 1\n",
        "    # 상하좌우 위치 재귀적으로 호출하기\n",
        "    dfs(x-1, y)\n",
        "    dfs(x, y-1)\n",
        "    dfs(x+1, y)\n",
        "    dfs(x, y+1)\n",
        "    return True\n",
        "  return False\n",
        "\n",
        "# 모든 노드 위치에 음료수 채우기\n",
        "result = 0\n",
        "for i in range(n) : \n",
        "  for j in range(m) : \n",
        "    if dfs(i, j) == True : \n",
        "      result += 1\n",
        "\n",
        "print(result) "
      ],
      "metadata": {
        "id": "oEj80t0xgkq2",
        "colab": {
          "base_uri": "https://localhost:8080/"
        },
        "outputId": "de269eac-0eae-4bd4-94df-4525beea54d5"
      },
      "execution_count": 14,
      "outputs": [
        {
          "output_type": "stream",
          "name": "stdout",
          "text": [
            "4 5\n",
            "00110\n",
            "00011\n",
            "11111\n",
            "00000\n",
            "3\n"
          ]
        }
      ]
    },
    {
      "cell_type": "code",
      "source": [
        "# 미로탈출-BFS 활용하기\n",
        "from collections import deque\n",
        "\n",
        "n, m = map(int, input().split())\n",
        "# 2차원 리스트의 맵 정보\n",
        "graph = []\n",
        "for i in range(n) : \n",
        "  graph.append(list(map(int, input())))"
      ],
      "metadata": {
        "colab": {
          "base_uri": "https://localhost:8080/"
        },
        "id": "L0nlaF5qXvUk",
        "outputId": "e2a63402-be84-41ba-bc49-cef0dd78a4c3"
      },
      "execution_count": 16,
      "outputs": [
        {
          "name": "stdout",
          "output_type": "stream",
          "text": [
            "5 6\n",
            "101010\n",
            "111111\n",
            "000001\n",
            "111111\n",
            "111111\n"
          ]
        }
      ]
    }
  ]
}