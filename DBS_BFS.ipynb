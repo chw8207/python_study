{
  "nbformat": 4,
  "nbformat_minor": 0,
  "metadata": {
    "colab": {
      "provenance": [],
      "mount_file_id": "1-g945bWbRmJVdUbU-pldRelXEvj6YS_o",
      "authorship_tag": "ABX9TyPQKm4awJCrWUu//CTjhinl",
      "include_colab_link": true
    },
    "kernelspec": {
      "name": "python3",
      "display_name": "Python 3"
    },
    "language_info": {
      "name": "python"
    }
  },
  "cells": [
    {
      "cell_type": "markdown",
      "metadata": {
        "id": "view-in-github",
        "colab_type": "text"
      },
      "source": [
        "<a href=\"https://colab.research.google.com/github/chw8207/python_study/blob/main/DBS_BFS.ipynb\" target=\"_parent\"><img src=\"https://colab.research.google.com/assets/colab-badge.svg\" alt=\"Open In Colab\"/></a>"
      ]
    },
    {
      "cell_type": "markdown",
      "source": [
        "### 스택구조"
      ],
      "metadata": {
        "id": "s4WOnWXJhyMR"
      }
    },
    {
      "cell_type": "code",
      "execution_count": 6,
      "metadata": {
        "colab": {
          "base_uri": "https://localhost:8080/"
        },
        "id": "G_gZXVZKhtbK",
        "outputId": "ce518779-f220-4671-fbff-dc34dfe724a3"
      },
      "outputs": [
        {
          "output_type": "stream",
          "name": "stdout",
          "text": [
            "[5, 2, 3, 1]\n",
            "[1, 3, 2, 5]\n"
          ]
        }
      ],
      "source": [
        "# 스택 예시\n",
        "stack = []\n",
        "\n",
        "# 삽입(5)-삽입(2)-삽입(3)-삽입(7)\n",
        "# -삭제()-삽입(1)-삽입(4)-삭제()\n",
        "stack.append(5)\n",
        "stack.append(2)\n",
        "stack.append(3)\n",
        "stack.append(7)\n",
        "stack.pop()\n",
        "stack.append(1)\n",
        "stack.append(4)\n",
        "stack.pop()\n",
        "\n",
        "print(stack)        # 최하단 원소부터 출력\n",
        "print(stack[::-1])  # 최상단 원소부터 출력"
      ]
    },
    {
      "cell_type": "markdown",
      "source": [
        "### 큐 구조"
      ],
      "metadata": {
        "id": "-Ih8w9Nql9ti"
      }
    },
    {
      "cell_type": "code",
      "source": [
        "# 큐 예시\n",
        "from collections import deque\n",
        "\n",
        "# 큐(Queue) 구현을 위해 deque라이브러리 사용\n",
        "queue = deque()\n",
        "\n",
        "# 삽입(5)-삽입(2)-삽입(3)-삽입(7)\n",
        "# -삭제()-삽입(1)-삽입(4)-삭제()\n",
        "queue.append(5)\n",
        "queue.append(2)\n",
        "\n",
        "print(queue)     # 먼저 들어온 순서대로 출력\n",
        "queue.reverse()  # 다음 출력을 위해 역순으로 출력\n",
        "print(queue)"
      ],
      "metadata": {
        "colab": {
          "base_uri": "https://localhost:8080/"
        },
        "id": "nFZQpJTjl_Wh",
        "outputId": "30ff827c-7705-4bc7-9323-70d5a65d854c"
      },
      "execution_count": 9,
      "outputs": [
        {
          "output_type": "stream",
          "name": "stdout",
          "text": [
            "deque([5, 2])\n",
            "deque([2, 5])\n"
          ]
        }
      ]
    }
  ]
}