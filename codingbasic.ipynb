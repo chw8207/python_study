{
  "nbformat": 4,
  "nbformat_minor": 0,
  "metadata": {
    "colab": {
      "provenance": [],
      "mount_file_id": "117iZD_28qV2CcN7DLxy70AvHGN8d4z80",
      "authorship_tag": "ABX9TyMJIP7ZrMdM4stcu1RIQMU+",
      "include_colab_link": true
    },
    "kernelspec": {
      "name": "python3",
      "display_name": "Python 3"
    },
    "language_info": {
      "name": "python"
    }
  },
  "cells": [
    {
      "cell_type": "markdown",
      "metadata": {
        "id": "view-in-github",
        "colab_type": "text"
      },
      "source": [
        "<a href=\"https://colab.research.google.com/github/chw8207/python_study/blob/main/codingbasic.ipynb\" target=\"_parent\"><img src=\"https://colab.research.google.com/assets/colab-badge.svg\" alt=\"Open In Colab\"/></a>"
      ]
    },
    {
      "cell_type": "markdown",
      "source": [
        "### 깃허브 연동"
      ],
      "metadata": {
        "id": "u_Vkj2YncMdV"
      }
    },
    {
      "cell_type": "code",
      "source": [
        "cd /content/drive/MyDrive/백준/코테연습"
      ],
      "metadata": {
        "colab": {
          "base_uri": "https://localhost:8080/"
        },
        "id": "VyJNKrCeWcPr",
        "outputId": "dbdf4f7d-3df6-420a-d421-e9a55a68c308"
      },
      "execution_count": null,
      "outputs": [
        {
          "output_type": "stream",
          "name": "stdout",
          "text": [
            "/content/drive/MyDrive/백준/코테연습\n"
          ]
        }
      ]
    },
    {
      "cell_type": "code",
      "source": [
        "!git clone https://github.com/chw8207/python_study.git"
      ],
      "metadata": {
        "colab": {
          "base_uri": "https://localhost:8080/"
        },
        "id": "th3uQwN5Wk_9",
        "outputId": "f9b0029a-5dc4-4437-98ab-e110fd81501d"
      },
      "execution_count": null,
      "outputs": [
        {
          "output_type": "stream",
          "name": "stdout",
          "text": [
            "fatal: destination path 'python_study' already exists and is not an empty directory.\n"
          ]
        }
      ]
    },
    {
      "cell_type": "code",
      "execution_count": null,
      "metadata": {
        "id": "4Qd1b9pdVVSC"
      },
      "outputs": [],
      "source": [
        "# 접근권한\n",
        "!git config --global user.email 'chw8207@naver.com'\n",
        "!git config --global user.name 'chw8207'"
      ]
    },
    {
      "cell_type": "code",
      "source": [
        "# 파일 커밋하기\n",
        "!git add 코딩테스트기초.ipynb\n",
        "!git commit -m \"Connect Google Colab and Drive\""
      ],
      "metadata": {
        "colab": {
          "base_uri": "https://localhost:8080/"
        },
        "id": "UIyELQkFWH6Q",
        "outputId": "b8073b33-8158-4fda-f73d-ee186ea76a29"
      },
      "execution_count": null,
      "outputs": [
        {
          "output_type": "stream",
          "name": "stdout",
          "text": [
            "fatal: not a git repository (or any parent up to mount point /content)\n",
            "Stopping at filesystem boundary (GIT_DISCOVERY_ACROSS_FILESYSTEM not set).\n",
            "fatal: not a git repository (or any parent up to mount point /content)\n",
            "Stopping at filesystem boundary (GIT_DISCOVERY_ACROSS_FILESYSTEM not set).\n"
          ]
        }
      ]
    },
    {
      "cell_type": "code",
      "source": [
        "# 리스트를 통해 한 줄 입력받기\n",
        "# 1차원 배열 활용\n",
        "num = list(map(int, input().split()))"
      ],
      "metadata": {
        "colab": {
          "base_uri": "https://localhost:8080/"
        },
        "id": "DJxc30lDcKp1",
        "outputId": "8b43add3-8e0b-4cdb-97ed-ad2a8240ba63"
      },
      "execution_count": 11,
      "outputs": [
        {
          "name": "stdout",
          "output_type": "stream",
          "text": [
            "1 2 3 4\n"
          ]
        }
      ]
    },
    {
      "cell_type": "code",
      "source": [
        "# 한 줄로 문자열 변수 여러 개를 입력받기\n",
        "# 1. 변수명 = [input() for_in range(n)]\n",
        "str = [input() for _ in range(3)]"
      ],
      "metadata": {
        "colab": {
          "base_uri": "https://localhost:8080/"
        },
        "id": "vHeYAHiPchZS",
        "outputId": "d29a1a26-e562-429c-8351-8a6fabeab64a"
      },
      "execution_count": 13,
      "outputs": [
        {
          "name": "stdout",
          "output_type": "stream",
          "text": [
            "abc\n",
            "cde\n",
            "abcd\n"
          ]
        }
      ]
    },
    {
      "cell_type": "code",
      "source": [
        "# 2. 띄어쓰기 없을 경우 \n",
        "# 변수명 = [list(map(int, input()) for _ in range(n))]\n",
        "arr = [list(map(int, input())) for _ in range(4)]"
      ],
      "metadata": {
        "colab": {
          "base_uri": "https://localhost:8080/"
        },
        "id": "YzgzkQZqdSAs",
        "outputId": "f8908e5b-4cec-48a1-80d5-3dd0c78e187a"
      },
      "execution_count": 14,
      "outputs": [
        {
          "name": "stdout",
          "output_type": "stream",
          "text": [
            "0101\n",
            "1010\n",
            "0101\n",
            "1010\n"
          ]
        }
      ]
    },
    {
      "cell_type": "code",
      "source": [
        "# 2차원 배열을 입력받기\n",
        "# 띄어쓰기 있고, 여러 개의 줄을 입력\n",
        "# 변수명 = [list(map(int, input().split())) for _ in range(n)]\n",
        "arr = [list(map(int, input().split())) for _ in range(3)]"
      ],
      "metadata": {
        "colab": {
          "base_uri": "https://localhost:8080/"
        },
        "id": "4mLx5BOId59x",
        "outputId": "6d0c6365-6cef-45d5-8860-e6ea2adc1f85"
      },
      "execution_count": 16,
      "outputs": [
        {
          "name": "stdout",
          "output_type": "stream",
          "text": [
            "1 2 3 4 5\n",
            "6 7 8 9 10\n",
            "5 4 3 2 1\n"
          ]
        }
      ]
    }
  ]
}