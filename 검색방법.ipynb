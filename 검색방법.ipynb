{
  "nbformat": 4,
  "nbformat_minor": 0,
  "metadata": {
    "colab": {
      "provenance": [],
      "mount_file_id": "1Vc8xk5twxcgn0sAJSM8AZToQO_glK9yl",
      "authorship_tag": "ABX9TyOD6LsRhrDBDtjoDxNoqrgJ",
      "include_colab_link": true
    },
    "kernelspec": {
      "name": "python3",
      "display_name": "Python 3"
    },
    "language_info": {
      "name": "python"
    }
  },
  "cells": [
    {
      "cell_type": "markdown",
      "metadata": {
        "id": "view-in-github",
        "colab_type": "text"
      },
      "source": [
        "<a href=\"https://colab.research.google.com/github/chw8207/python_study/blob/main/%EA%B2%80%EC%83%89%EB%B0%A9%EB%B2%95.ipynb\" target=\"_parent\"><img src=\"https://colab.research.google.com/assets/colab-badge.svg\" alt=\"Open In Colab\"/></a>"
      ]
    },
    {
      "cell_type": "markdown",
      "source": [
        "### 선형검색"
      ],
      "metadata": {
        "id": "L_iuG9eoe6mK"
      }
    },
    {
      "cell_type": "code",
      "execution_count": 2,
      "metadata": {
        "colab": {
          "base_uri": "https://localhost:8080/"
        },
        "id": "q2H_VQNeezX7",
        "outputId": "62312414-0805-466e-bc4f-26b4683ecf00"
      },
      "outputs": [
        {
          "output_type": "stream",
          "name": "stdout",
          "text": [
            "7\n"
          ]
        }
      ],
      "source": [
        "# 원하는 값 40찾는 프로그램\n",
        "data = [50,30,90,10,20,70,60,40,80]\n",
        "# 처리 상황 관리(초기값=False)\n",
        "found = False\n",
        "\n",
        "for i in range(len(data)) : \n",
        "  if data[i] == 40 : \n",
        "    print(i)\n",
        "    found = True\n",
        "    break\n",
        "\n",
        "if not found : \n",
        "  print('Not Found')"
      ]
    },
    {
      "cell_type": "code",
      "source": [
        "# 원하는 값 찾기 함수로 구현하기\n",
        "def linear_search(data, value) : \n",
        "  for i in range(len(data)) : \n",
        "    if data[i] == value : \n",
        "      return i\n",
        "  return -1  # 원하는 값이 없으면 -1 반환\n",
        "\n",
        "data = [50,30,90,10,20,70,60,40,80]\n",
        "\n",
        "print(linear_search(data, 40))"
      ],
      "metadata": {
        "colab": {
          "base_uri": "https://localhost:8080/"
        },
        "id": "DA6ByJ2RfzPQ",
        "outputId": "98979f7e-2434-4c85-d2c0-3507b2416e88"
      },
      "execution_count": 3,
      "outputs": [
        {
          "output_type": "stream",
          "name": "stdout",
          "text": [
            "7\n"
          ]
        }
      ]
    },
    {
      "cell_type": "markdown",
      "source": [
        "### 이진검색"
      ],
      "metadata": {
        "id": "8m3utukMkd_X"
      }
    },
    {
      "cell_type": "code",
      "source": [
        "def binary_search(data, value) : \n",
        "  left = 0             # 검색 영역의 왼쪽 끝 설정\n",
        "  right = len(data)-1  # 검색 영역의 오른쪽 끝 설정\n",
        "  while left<=right : \n",
        "    mid = (right+left)//2  # 검색범위의 중앙값\n",
        "    if data[mid] == value : \n",
        "      return mid\n",
        "    elif data[mid]<value : \n",
        "      left = mid + 1\n",
        "    else : \n",
        "      right = mid - 1\n",
        "  return -1\n",
        "\n",
        "data = [10,20,30,40,50,60,70,80,90]\n",
        "print(binary_search(data, 90))"
      ],
      "metadata": {
        "colab": {
          "base_uri": "https://localhost:8080/"
        },
        "id": "aHBw69mTkgeS",
        "outputId": "1d1a08c4-41de-4d80-ed49-0e8e8da2c8dd"
      },
      "execution_count": 4,
      "outputs": [
        {
          "output_type": "stream",
          "name": "stdout",
          "text": [
            "8\n"
          ]
        }
      ]
    },
    {
      "cell_type": "markdown",
      "source": [
        "### 너비우선탐색"
      ],
      "metadata": {
        "id": "SUEYH_pirTqI"
      }
    },
    {
      "cell_type": "code",
      "source": [
        "tree = [[1,2],[3,4],[5,6],[7,8],[9,10],[11,12],[13,14],\n",
        "        [],[],[],[],[],[],[],[]]"
      ],
      "metadata": {
        "id": "Tu2hrHjSrVjJ"
      },
      "execution_count": 5,
      "outputs": []
    }
  ]
}