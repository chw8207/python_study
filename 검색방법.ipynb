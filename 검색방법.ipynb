{
  "nbformat": 4,
  "nbformat_minor": 0,
  "metadata": {
    "colab": {
      "provenance": [],
      "mount_file_id": "1Vc8xk5twxcgn0sAJSM8AZToQO_glK9yl",
      "authorship_tag": "ABX9TyNfyuSuCs2dHpBCISBqIRb0",
      "include_colab_link": true
    },
    "kernelspec": {
      "name": "python3",
      "display_name": "Python 3"
    },
    "language_info": {
      "name": "python"
    }
  },
  "cells": [
    {
      "cell_type": "markdown",
      "metadata": {
        "id": "view-in-github",
        "colab_type": "text"
      },
      "source": [
        "<a href=\"https://colab.research.google.com/github/chw8207/python_study/blob/main/%EA%B2%80%EC%83%89%EB%B0%A9%EB%B2%95.ipynb\" target=\"_parent\"><img src=\"https://colab.research.google.com/assets/colab-badge.svg\" alt=\"Open In Colab\"/></a>"
      ]
    },
    {
      "cell_type": "markdown",
      "source": [
        "### 선형검색"
      ],
      "metadata": {
        "id": "L_iuG9eoe6mK"
      }
    },
    {
      "cell_type": "code",
      "execution_count": 2,
      "metadata": {
        "colab": {
          "base_uri": "https://localhost:8080/"
        },
        "id": "q2H_VQNeezX7",
        "outputId": "62312414-0805-466e-bc4f-26b4683ecf00"
      },
      "outputs": [
        {
          "output_type": "stream",
          "name": "stdout",
          "text": [
            "7\n"
          ]
        }
      ],
      "source": [
        "# 원하는 값 40찾는 프로그램\n",
        "data = [50,30,90,10,20,70,60,40,80]\n",
        "# 처리 상황 관리(초기값=False)\n",
        "found = False\n",
        "\n",
        "for i in range(len(data)) : \n",
        "  if data[i] == 40 : \n",
        "    print(i)\n",
        "    found = True\n",
        "    break\n",
        "\n",
        "if not found : \n",
        "  print('Not Found')"
      ]
    }
  ]
}