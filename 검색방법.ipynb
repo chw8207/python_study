{
  "nbformat": 4,
  "nbformat_minor": 0,
  "metadata": {
    "colab": {
      "provenance": [],
      "mount_file_id": "1Vc8xk5twxcgn0sAJSM8AZToQO_glK9yl",
      "authorship_tag": "ABX9TyNrFmiqtERbfai+AHEeQpCQ",
      "include_colab_link": true
    },
    "kernelspec": {
      "name": "python3",
      "display_name": "Python 3"
    },
    "language_info": {
      "name": "python"
    }
  },
  "cells": [
    {
      "cell_type": "markdown",
      "metadata": {
        "id": "view-in-github",
        "colab_type": "text"
      },
      "source": [
        "<a href=\"https://colab.research.google.com/github/chw8207/python_study/blob/main/%EA%B2%80%EC%83%89%EB%B0%A9%EB%B2%95.ipynb\" target=\"_parent\"><img src=\"https://colab.research.google.com/assets/colab-badge.svg\" alt=\"Open In Colab\"/></a>"
      ]
    },
    {
      "cell_type": "markdown",
      "source": [
        "### 선형검색"
      ],
      "metadata": {
        "id": "L_iuG9eoe6mK"
      }
    },
    {
      "cell_type": "code",
      "source": [
        "from google.colab import drive\n",
        "drive.mount('/content/drive')"
      ],
      "metadata": {
        "colab": {
          "base_uri": "https://localhost:8080/"
        },
        "id": "hlWkqGtOoilL",
        "outputId": "2d3c06aa-bf9f-4b3c-ebc0-32e6c8debbcc"
      },
      "execution_count": null,
      "outputs": [
        {
          "output_type": "stream",
          "name": "stdout",
          "text": [
            "Drive already mounted at /content/drive; to attempt to forcibly remount, call drive.mount(\"/content/drive\", force_remount=True).\n"
          ]
        }
      ]
    },
    {
      "cell_type": "code",
      "execution_count": null,
      "metadata": {
        "colab": {
          "base_uri": "https://localhost:8080/"
        },
        "id": "q2H_VQNeezX7",
        "outputId": "62312414-0805-466e-bc4f-26b4683ecf00"
      },
      "outputs": [
        {
          "output_type": "stream",
          "name": "stdout",
          "text": [
            "7\n"
          ]
        }
      ],
      "source": [
        "# 원하는 값 40찾는 프로그램\n",
        "data = [50,30,90,10,20,70,60,40,80]\n",
        "# 처리 상황 관리(초기값=False)\n",
        "found = False\n",
        "\n",
        "for i in range(len(data)) : \n",
        "  if data[i] == 40 : \n",
        "    print(i)\n",
        "    found = True\n",
        "    break\n",
        "\n",
        "if not found : \n",
        "  print('Not Found')"
      ]
    },
    {
      "cell_type": "code",
      "source": [
        "# 원하는 값 찾기 함수로 구현하기\n",
        "def linear_search(data, value) : \n",
        "  for i in range(len(data)) : \n",
        "    if data[i] == value : \n",
        "      return i\n",
        "  return -1  # 원하는 값이 없으면 -1 반환\n",
        "\n",
        "data = [50,30,90,10,20,70,60,40,80]\n",
        "\n",
        "print(linear_search(data, 40))"
      ],
      "metadata": {
        "colab": {
          "base_uri": "https://localhost:8080/"
        },
        "id": "DA6ByJ2RfzPQ",
        "outputId": "98979f7e-2434-4c85-d2c0-3507b2416e88"
      },
      "execution_count": null,
      "outputs": [
        {
          "output_type": "stream",
          "name": "stdout",
          "text": [
            "7\n"
          ]
        }
      ]
    },
    {
      "cell_type": "markdown",
      "source": [
        "### 이진검색"
      ],
      "metadata": {
        "id": "8m3utukMkd_X"
      }
    },
    {
      "cell_type": "code",
      "source": [
        "def binary_search(data, value) : \n",
        "  left = 0             # 검색 영역의 왼쪽 끝 설정\n",
        "  right = len(data)-1  # 검색 영역의 오른쪽 끝 설정\n",
        "  while left<=right : \n",
        "    mid = (right+left)//2  # 검색범위의 중앙값\n",
        "    if data[mid] == value : \n",
        "      return mid\n",
        "    elif data[mid]<value : \n",
        "      left = mid + 1\n",
        "    else : \n",
        "      right = mid - 1\n",
        "  return -1\n",
        "\n",
        "data = [10,20,30,40,50,60,70,80,90]\n",
        "print(binary_search(data, 90))"
      ],
      "metadata": {
        "colab": {
          "base_uri": "https://localhost:8080/"
        },
        "id": "aHBw69mTkgeS",
        "outputId": "1d1a08c4-41de-4d80-ed49-0e8e8da2c8dd"
      },
      "execution_count": null,
      "outputs": [
        {
          "output_type": "stream",
          "name": "stdout",
          "text": [
            "8\n"
          ]
        }
      ]
    },
    {
      "cell_type": "markdown",
      "source": [
        "### 너비우선탐색"
      ],
      "metadata": {
        "id": "SUEYH_pirTqI"
      }
    },
    {
      "cell_type": "code",
      "source": [
        "tree = [[1,2],[3,4],[5,6],[7,8],[9,10],[11,12],[13,14],\n",
        "        [],[],[],[],[],[],[],[]]\n",
        "data = [0]\n",
        "\n",
        "while len(data)>0 : \n",
        "  pos = data.pop(0)  # 맨 앞에서 꺼내기\n",
        "  print(pos, end=' ')\n",
        "  for i in tree[pos] : \n",
        "    data.append(i)"
      ],
      "metadata": {
        "colab": {
          "base_uri": "https://localhost:8080/"
        },
        "id": "Tu2hrHjSrVjJ",
        "outputId": "418992e8-62e8-4303-b17e-ff4c900b5d0c"
      },
      "execution_count": null,
      "outputs": [
        {
          "output_type": "stream",
          "name": "stdout",
          "text": [
            "0 1 2 3 4 5 6 7 8 9 10 11 12 13 14 "
          ]
        }
      ]
    },
    {
      "cell_type": "markdown",
      "source": [
        "### 깊이우선-전위순회"
      ],
      "metadata": {
        "id": "hN3aaO_gpEEW"
      }
    },
    {
      "cell_type": "code",
      "source": [
        "tree = [[1,2],[3,4],[5,6],[7,8],[9,10],[11,12],[13,14],\n",
        "        [],[],[],[],[],[],[],[]]\n",
        "\n",
        "def search(pos) : \n",
        "  # 자식노드를 탐색하기 전에 현재 노드 출력\n",
        "  print(pos, end=' ')\n",
        "\n",
        "  # 자식노드 탐색\n",
        "  for i in tree[pos] : \n",
        "    search(i)\n",
        "\n",
        "search(0)"
      ],
      "metadata": {
        "colab": {
          "base_uri": "https://localhost:8080/"
        },
        "id": "KoSJtAkYpHCA",
        "outputId": "28c066da-25cd-4628-aad1-be27e8f0f3fb"
      },
      "execution_count": null,
      "outputs": [
        {
          "output_type": "stream",
          "name": "stdout",
          "text": [
            "0 1 3 7 8 4 9 10 2 5 11 12 6 13 14 "
          ]
        }
      ]
    },
    {
      "cell_type": "markdown",
      "source": [
        "### 깊이우선-후위순회"
      ],
      "metadata": {
        "id": "C_ggTe4Oqd8B"
      }
    },
    {
      "cell_type": "code",
      "source": [
        "tree = [[1,2],[3,4],[5,6],[7,8],[9,10],[11,12],[13,14],\n",
        "        [],[],[],[],[],[],[],[]]\n",
        "\n",
        "def search(pos) : \n",
        "  for i in tree[pos] : \n",
        "    search(i)\n",
        "  print(pos, end=' ')\n",
        "\n",
        "search(0)"
      ],
      "metadata": {
        "colab": {
          "base_uri": "https://localhost:8080/"
        },
        "id": "SDhSCrmWqggS",
        "outputId": "d18ae1dd-4477-42d2-ffb4-370a5ea0d388"
      },
      "execution_count": null,
      "outputs": [
        {
          "output_type": "stream",
          "name": "stdout",
          "text": [
            "7 8 3 9 10 4 1 11 12 5 13 14 6 2 0 "
          ]
        }
      ]
    },
    {
      "cell_type": "markdown",
      "source": [
        "### 깊이우선-중위순회"
      ],
      "metadata": {
        "id": "7YZUi7wvzNDX"
      }
    },
    {
      "cell_type": "code",
      "source": [
        "tree = [[1,2],[3,4],[5,6],[7,8],[9,10],[11,12],[13,14],\n",
        "        [],[],[],[],[],[],[],[]]"
      ],
      "metadata": {
        "id": "9I-J0Sh5siAX"
      },
      "execution_count": 7,
      "outputs": []
    }
  ]
}