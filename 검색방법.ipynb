{
  "nbformat": 4,
  "nbformat_minor": 0,
  "metadata": {
    "colab": {
      "provenance": [],
      "mount_file_id": "1Vc8xk5twxcgn0sAJSM8AZToQO_glK9yl",
      "authorship_tag": "ABX9TyP5Mi9fWB7GBSfDN6hZp8Oe",
      "include_colab_link": true
    },
    "kernelspec": {
      "name": "python3",
      "display_name": "Python 3"
    },
    "language_info": {
      "name": "python"
    }
  },
  "cells": [
    {
      "cell_type": "markdown",
      "metadata": {
        "id": "view-in-github",
        "colab_type": "text"
      },
      "source": [
        "<a href=\"https://colab.research.google.com/github/chw8207/python_study/blob/main/%EA%B2%80%EC%83%89%EB%B0%A9%EB%B2%95.ipynb\" target=\"_parent\"><img src=\"https://colab.research.google.com/assets/colab-badge.svg\" alt=\"Open In Colab\"/></a>"
      ]
    },
    {
      "cell_type": "markdown",
      "source": [
        "### 선형검색"
      ],
      "metadata": {
        "id": "L_iuG9eoe6mK"
      }
    },
    {
      "cell_type": "code",
      "execution_count": 1,
      "metadata": {
        "id": "q2H_VQNeezX7"
      },
      "outputs": [],
      "source": [
        "# 원하는 값 40찾는 프로그램\n",
        "data = [50,30,90,10,20,70,60,40,80]"
      ]
    }
  ]
}