{
  "nbformat": 4,
  "nbformat_minor": 0,
  "metadata": {
    "colab": {
      "provenance": [],
      "mount_file_id": "1dijVQZNSkVywmjWvD7rMudHSTOyAf0NA",
      "authorship_tag": "ABX9TyOTIovKBhlIFyQHso4PMObk",
      "include_colab_link": true
    },
    "kernelspec": {
      "name": "python3",
      "display_name": "Python 3"
    },
    "language_info": {
      "name": "python"
    }
  },
  "cells": [
    {
      "cell_type": "markdown",
      "metadata": {
        "id": "view-in-github",
        "colab_type": "text"
      },
      "source": [
        "<a href=\"https://colab.research.google.com/github/chw8207/python_study/blob/main/%EC%9E%90%EB%A3%8C%ED%98%95.ipynb\" target=\"_parent\"><img src=\"https://colab.research.google.com/assets/colab-badge.svg\" alt=\"Open In Colab\"/></a>"
      ]
    },
    {
      "cell_type": "code",
      "execution_count": 3,
      "metadata": {
        "colab": {
          "base_uri": "https://localhost:8080/"
        },
        "id": "6HjDc6QAOfNL",
        "outputId": "da0859d6-527b-4c95-85e5-0333ab2aed0a"
      },
      "outputs": [
        {
          "output_type": "stream",
          "name": "stdout",
          "text": [
            "1000000000.0\n",
            "752.5\n",
            "3.954\n"
          ]
        }
      ],
      "source": [
        "# 10억의 지수 표현 방식\n",
        "a = 1e9\n",
        "print(a)\n",
        "\n",
        "# 752.5\n",
        "a = 75.25e1\n",
        "print(a)\n",
        "\n",
        "# 3.954\n",
        "a = 3954e-3\n",
        "print(a)"
      ]
    },
    {
      "cell_type": "markdown",
      "source": [
        "### 리스트 자료형"
      ],
      "metadata": {
        "id": "ihF7aAEXPfnX"
      }
    },
    {
      "cell_type": "code",
      "source": [
        "# 코딩테스트에서 자주 쓰이는 리스트 초기화\n",
        "# 크기가 n이고 모든 값이 0인 1차원 리스트 초기화\n",
        "n = 10\n",
        "a = [0]*n\n",
        "print(a)"
      ],
      "metadata": {
        "colab": {
          "base_uri": "https://localhost:8080/"
        },
        "id": "5L3lUhmxPcXc",
        "outputId": "e3d4234c-6290-4fdc-fdfe-f2a6a51000cf"
      },
      "execution_count": 4,
      "outputs": [
        {
          "output_type": "stream",
          "name": "stdout",
          "text": [
            "[0, 0, 0, 0, 0, 0, 0, 0, 0, 0]\n"
          ]
        }
      ]
    },
    {
      "cell_type": "code",
      "source": [
        "# 리스트 컴프리헨션\n",
        "# 0부터 19까지의 수 중에서 홀수만 포함하는 리스트\n",
        "array = [i for i in range(20) if i%2!=0]\n",
        "print(array)"
      ],
      "metadata": {
        "colab": {
          "base_uri": "https://localhost:8080/"
        },
        "id": "H7c7YbP_P6q3",
        "outputId": "99532ef1-88c4-4c31-a13d-abf4fc8a77bd"
      },
      "execution_count": 5,
      "outputs": [
        {
          "output_type": "stream",
          "name": "stdout",
          "text": [
            "[1, 3, 5, 7, 9, 11, 13, 15, 17, 19]\n"
          ]
        }
      ]
    },
    {
      "cell_type": "code",
      "source": [
        "# 1부터 9까지의 수의 제곱값을 포함하는 리스트\n",
        "array = [i**2 for i in range(1,10)]\n",
        "print(array)"
      ],
      "metadata": {
        "colab": {
          "base_uri": "https://localhost:8080/"
        },
        "id": "RuQv93OMQbAn",
        "outputId": "4ceed87a-984a-4606-a20b-068e6b834220"
      },
      "execution_count": 6,
      "outputs": [
        {
          "output_type": "stream",
          "name": "stdout",
          "text": [
            "[1, 4, 9, 16, 25, 36, 49, 64, 81]\n"
          ]
        }
      ]
    },
    {
      "cell_type": "code",
      "source": [
        "# N X M 크기의 2차원 리스트 초기화하기\n",
        "n = 3\n",
        "m = 4\n",
        "array = [[0]*m for _ in range(n)]\n",
        "print(array)"
      ],
      "metadata": {
        "colab": {
          "base_uri": "https://localhost:8080/"
        },
        "id": "i18DxwxSRluP",
        "outputId": "0dcb0318-08f3-44d1-fc11-4625b13db57a"
      },
      "execution_count": 7,
      "outputs": [
        {
          "output_type": "stream",
          "name": "stdout",
          "text": [
            "[[0, 0, 0, 0], [0, 0, 0, 0], [0, 0, 0, 0]]\n"
          ]
        }
      ]
    },
    {
      "cell_type": "code",
      "source": [
        "# 리스트 관련 메서드\n",
        "a = [1, 4, 3]\n",
        "print('기본 리스트: ', a)\n",
        "\n",
        "# 리스트에 원소 삽입\n",
        "a.append(2)\n",
        "print('삽입: ', a)\n",
        "\n",
        "# 오름차순 정렬\n",
        "a.sort()\n",
        "print('오름차순 정렬: ', a)\n",
        "\n",
        "# 내림차순 정렬\n",
        "a.sort(reverse = True)\n",
        "print('내림차순 정렬: ', a)\n",
        "\n",
        "# 리스트 원소 뒤집기\n",
        "a.reverse()\n",
        "print('원소 뒤집기: ', a)\n",
        "\n",
        "# 특정 인덱스에 데이터 추가 : insert(삽입할 위치 인덱스, 삽입할 값)\n",
        "a.insert(2, 3)\n",
        "print('인덱스 2에 3 추가: ', a)\n",
        "\n",
        "# 특정 값인 데이터 개수 세기\n",
        "print('값이 3인 데이터 개수: ', a.count(3))\n",
        "\n",
        "# 특정 값 데이터 삭제\n",
        "a.remove(1)\n",
        "print('값이 1인 데이터 삭제: ', a)"
      ],
      "metadata": {
        "colab": {
          "base_uri": "https://localhost:8080/"
        },
        "id": "bMpmS1tyToyo",
        "outputId": "9c9031f3-2131-4b81-91a2-124997bee89a"
      },
      "execution_count": 16,
      "outputs": [
        {
          "output_type": "stream",
          "name": "stdout",
          "text": [
            "기본 리스트:  [1, 4, 3]\n",
            "삽입:  [1, 4, 3, 2]\n",
            "오름차순 정렬:  [1, 2, 3, 4]\n",
            "내림차순 정렬:  [4, 3, 2, 1]\n",
            "원소 뒤집기:  [1, 2, 3, 4]\n",
            "인덱스 2에 3 추가:  [1, 2, 3, 3, 4]\n",
            "값이 3인 데이터 개수:  2\n",
            "값이 1인 데이터 삭제:  [2, 3, 3, 4]\n"
          ]
        }
      ]
    },
    {
      "cell_type": "code",
      "source": [
        "# 시간 복잡도 줄이는 방법!\n",
        "a = [1, 2, 3, 4, 5, 5, 5]\n",
        "remove_set = {3, 5}\n",
        "\n",
        "# remove_set에 포함되지 않은 값만 저장하기\n",
        "result = [i for i in a if i not in remove_set]\n",
        "print(result)"
      ],
      "metadata": {
        "colab": {
          "base_uri": "https://localhost:8080/"
        },
        "id": "7rmWfDOFU9YS",
        "outputId": "3db36d87-eb41-4fb5-bc6a-42220e2f2753"
      },
      "execution_count": 18,
      "outputs": [
        {
          "output_type": "stream",
          "name": "stdout",
          "text": [
            "[1, 2, 4]\n"
          ]
        }
      ]
    },
    {
      "cell_type": "markdown",
      "source": [
        "### 문자열 자료형"
      ],
      "metadata": {
        "id": "TGhYLUjQWV3m"
      }
    },
    {
      "cell_type": "code",
      "source": [
        "# 문자열 안에 큰따옴표나 작은따옴표 포함되는 경우\n",
        "data = \"Dont't you know \\\"Python\\\"?\"\n",
        "print(data)"
      ],
      "metadata": {
        "colab": {
          "base_uri": "https://localhost:8080/"
        },
        "id": "j5XzZRjdWXwt",
        "outputId": "98835617-686f-494f-90b7-9bd6d33e0342"
      },
      "execution_count": 19,
      "outputs": [
        {
          "output_type": "stream",
          "name": "stdout",
          "text": [
            "Dont't you know \"Python\"?\n"
          ]
        }
      ]
    },
    {
      "cell_type": "markdown",
      "source": [
        "### 사전 자료형"
      ],
      "metadata": {
        "id": "9LHpdw-BXMvu"
      }
    },
    {
      "cell_type": "code",
      "source": [
        "data = dict()\n",
        "data['사과'] = 'Apple'\n",
        "data['바나나'] = 'Banana'\n",
        "data['코코넛'] = 'Coconut'\n",
        "\n",
        "print(data)"
      ],
      "metadata": {
        "colab": {
          "base_uri": "https://localhost:8080/"
        },
        "id": "Wgow2AlaXO0K",
        "outputId": "089a18dd-7e91-4d28-b6b4-cac2d8bfe57b"
      },
      "execution_count": 20,
      "outputs": [
        {
          "output_type": "stream",
          "name": "stdout",
          "text": [
            "{'사과': 'Apple', '바나나': 'Banana', '코코넛': 'Coconut'}\n"
          ]
        }
      ]
    },
    {
      "cell_type": "code",
      "source": [
        "data = dict()\n",
        "data['사과'] = 'Apple'\n",
        "data['바나나'] = 'Banana'\n",
        "data['코코넛'] = 'Coconut'\n",
        "\n",
        "if '사과' in data : \n",
        "  print(\"'사과'를 키로 가지는 데이터가 존재합니다.\")"
      ],
      "metadata": {
        "colab": {
          "base_uri": "https://localhost:8080/"
        },
        "id": "m-Yf6kHgXkT-",
        "outputId": "ab0abf62-fa9b-4684-cf55-f8e72529eb38"
      },
      "execution_count": 21,
      "outputs": [
        {
          "output_type": "stream",
          "name": "stdout",
          "text": [
            "'사과'를 키로 가지는 데이터가 존재합니다.\n"
          ]
        }
      ]
    },
    {
      "cell_type": "code",
      "source": [
        "# 사전 자료형 관련 함수\n",
        "data = dict()\n",
        "data['사과'] = 'Apple'\n",
        "data['바나나'] = 'Banana'\n",
        "data['코코넛'] = 'Coconut'\n",
        "\n",
        "# 키 데이터만 담은 리스트\n",
        "key_list = data.keys()\n",
        "# 값 데이터만 담은 리스트\n",
        "value_list = data.values()\n",
        "print(key_list)\n",
        "print(value_list)\n",
        "\n",
        "# 각 키에 따른 값을 하나씩 출력\n",
        "for key in key_list : \n",
        "  print(data[key])"
      ],
      "metadata": {
        "colab": {
          "base_uri": "https://localhost:8080/"
        },
        "id": "okJpK58-YmlF",
        "outputId": "ddf0ab59-6db4-4f48-c8c5-5fd997c52338"
      },
      "execution_count": 25,
      "outputs": [
        {
          "output_type": "stream",
          "name": "stdout",
          "text": [
            "dict_keys(['사과', '바나나', '코코넛'])\n",
            "dict_values(['Apple', 'Banana', 'Coconut'])\n",
            "Apple\n",
            "Banana\n",
            "Coconut\n"
          ]
        }
      ]
    },
    {
      "cell_type": "markdown",
      "source": [
        "### 집합 자료형\n",
        " - 특정한 데이터가 이미 등장한 적이 있는지 여부 체크할 때 유용"
      ],
      "metadata": {
        "id": "Q_O7XdNnbBMk"
      }
    },
    {
      "cell_type": "code",
      "source": [
        "# 집합 자료형 초기화 방법 1 \n",
        "# set() 함수 사용하기\n",
        "data = set([1, 2, 3, 4, 4, 5])\n",
        "print(data)"
      ],
      "metadata": {
        "colab": {
          "base_uri": "https://localhost:8080/"
        },
        "id": "iTMr8OPvbFtO",
        "outputId": "bb606829-ea51-4abe-a9ef-a31b94841572"
      },
      "execution_count": 26,
      "outputs": [
        {
          "output_type": "stream",
          "name": "stdout",
          "text": [
            "{1, 2, 3, 4, 5}\n"
          ]
        }
      ]
    },
    {
      "cell_type": "code",
      "source": [
        "# 집합 자료형 초기화 방법 2\n",
        "# {}안에 콤마(,)로 구분해서 넣기\n",
        "data = {1, 2, 3, 4, 4, 5}\n",
        "print(data)"
      ],
      "metadata": {
        "colab": {
          "base_uri": "https://localhost:8080/"
        },
        "id": "xRc95OFicNvh",
        "outputId": "dde9358b-aec2-4e03-e0c7-edb5010c9cf2"
      },
      "execution_count": 27,
      "outputs": [
        {
          "output_type": "stream",
          "name": "stdout",
          "text": [
            "{1, 2, 3, 4, 5}\n"
          ]
        }
      ]
    },
    {
      "cell_type": "code",
      "source": [
        "# 집합 자료형의 연산\n",
        "a = set([1, 2, 3, 4, 5])\n",
        "b = set([3, 4, 5, 6, 7])\n",
        "\n",
        "print(a|b) # 합집합\n",
        "print(a&b) # 교집합\n",
        "print(a-b) # 차집합"
      ],
      "metadata": {
        "colab": {
          "base_uri": "https://localhost:8080/"
        },
        "id": "wQvmt-V_cjNK",
        "outputId": "4910db99-ecd9-47f3-e5cb-c70988dce8f2"
      },
      "execution_count": 28,
      "outputs": [
        {
          "output_type": "stream",
          "name": "stdout",
          "text": [
            "{1, 2, 3, 4, 5, 6, 7}\n",
            "{3, 4, 5}\n",
            "{1, 2}\n"
          ]
        }
      ]
    }
  ]
}