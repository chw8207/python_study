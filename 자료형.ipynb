{
  "nbformat": 4,
  "nbformat_minor": 0,
  "metadata": {
    "colab": {
      "provenance": [],
      "mount_file_id": "1dijVQZNSkVywmjWvD7rMudHSTOyAf0NA",
      "authorship_tag": "ABX9TyNNuJTKquoFhfK0ZUYwWPj3",
      "include_colab_link": true
    },
    "kernelspec": {
      "name": "python3",
      "display_name": "Python 3"
    },
    "language_info": {
      "name": "python"
    }
  },
  "cells": [
    {
      "cell_type": "markdown",
      "metadata": {
        "id": "view-in-github",
        "colab_type": "text"
      },
      "source": [
        "<a href=\"https://colab.research.google.com/github/chw8207/python_study/blob/main/%EC%9E%90%EB%A3%8C%ED%98%95.ipynb\" target=\"_parent\"><img src=\"https://colab.research.google.com/assets/colab-badge.svg\" alt=\"Open In Colab\"/></a>"
      ]
    },
    {
      "cell_type": "code",
      "execution_count": 3,
      "metadata": {
        "colab": {
          "base_uri": "https://localhost:8080/"
        },
        "id": "6HjDc6QAOfNL",
        "outputId": "da0859d6-527b-4c95-85e5-0333ab2aed0a"
      },
      "outputs": [
        {
          "output_type": "stream",
          "name": "stdout",
          "text": [
            "1000000000.0\n",
            "752.5\n",
            "3.954\n"
          ]
        }
      ],
      "source": [
        "# 10억의 지수 표현 방식\n",
        "a = 1e9\n",
        "print(a)\n",
        "\n",
        "# 752.5\n",
        "a = 75.25e1\n",
        "print(a)\n",
        "\n",
        "# 3.954\n",
        "a = 3954e-3\n",
        "print(a)"
      ]
    }
  ]
}