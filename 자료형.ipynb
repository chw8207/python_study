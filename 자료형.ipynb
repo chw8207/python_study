{
  "nbformat": 4,
  "nbformat_minor": 0,
  "metadata": {
    "colab": {
      "provenance": [],
      "mount_file_id": "1dijVQZNSkVywmjWvD7rMudHSTOyAf0NA",
      "authorship_tag": "ABX9TyNc6y/drhjUA9kqMvSwCEgP",
      "include_colab_link": true
    },
    "kernelspec": {
      "name": "python3",
      "display_name": "Python 3"
    },
    "language_info": {
      "name": "python"
    }
  },
  "cells": [
    {
      "cell_type": "markdown",
      "metadata": {
        "id": "view-in-github",
        "colab_type": "text"
      },
      "source": [
        "<a href=\"https://colab.research.google.com/github/chw8207/python_study/blob/main/%EC%9E%90%EB%A3%8C%ED%98%95.ipynb\" target=\"_parent\"><img src=\"https://colab.research.google.com/assets/colab-badge.svg\" alt=\"Open In Colab\"/></a>"
      ]
    },
    {
      "cell_type": "code",
      "execution_count": 3,
      "metadata": {
        "colab": {
          "base_uri": "https://localhost:8080/"
        },
        "id": "6HjDc6QAOfNL",
        "outputId": "da0859d6-527b-4c95-85e5-0333ab2aed0a"
      },
      "outputs": [
        {
          "output_type": "stream",
          "name": "stdout",
          "text": [
            "1000000000.0\n",
            "752.5\n",
            "3.954\n"
          ]
        }
      ],
      "source": [
        "# 10억의 지수 표현 방식\n",
        "a = 1e9\n",
        "print(a)\n",
        "\n",
        "# 752.5\n",
        "a = 75.25e1\n",
        "print(a)\n",
        "\n",
        "# 3.954\n",
        "a = 3954e-3\n",
        "print(a)"
      ]
    },
    {
      "cell_type": "markdown",
      "source": [
        "### 리스트 자료형"
      ],
      "metadata": {
        "id": "ihF7aAEXPfnX"
      }
    },
    {
      "cell_type": "code",
      "source": [
        "# 코딩테스트에서 자주 쓰이는 리스트 초기화\n",
        "# 크기가 n이고 모든 값이 0인 1차원 리스트 초기화\n",
        "n = 10\n",
        "a = [0]*n\n",
        "print(a)"
      ],
      "metadata": {
        "colab": {
          "base_uri": "https://localhost:8080/"
        },
        "id": "5L3lUhmxPcXc",
        "outputId": "e3d4234c-6290-4fdc-fdfe-f2a6a51000cf"
      },
      "execution_count": 4,
      "outputs": [
        {
          "output_type": "stream",
          "name": "stdout",
          "text": [
            "[0, 0, 0, 0, 0, 0, 0, 0, 0, 0]\n"
          ]
        }
      ]
    },
    {
      "cell_type": "code",
      "source": [
        "# 리스트 컴프리헨션\n",
        "# 0부터 19까지의 수 중에서 홀수만 포함하는 리스트\n",
        "array = [i for i in range(20) if i%2!=0]\n",
        "print(array)"
      ],
      "metadata": {
        "colab": {
          "base_uri": "https://localhost:8080/"
        },
        "id": "H7c7YbP_P6q3",
        "outputId": "99532ef1-88c4-4c31-a13d-abf4fc8a77bd"
      },
      "execution_count": 5,
      "outputs": [
        {
          "output_type": "stream",
          "name": "stdout",
          "text": [
            "[1, 3, 5, 7, 9, 11, 13, 15, 17, 19]\n"
          ]
        }
      ]
    },
    {
      "cell_type": "code",
      "source": [],
      "metadata": {
        "id": "RuQv93OMQbAn"
      },
      "execution_count": 5,
      "outputs": []
    }
  ]
}