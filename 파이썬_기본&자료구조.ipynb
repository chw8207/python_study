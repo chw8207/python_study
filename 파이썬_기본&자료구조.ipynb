{
  "nbformat": 4,
  "nbformat_minor": 0,
  "metadata": {
    "colab": {
      "provenance": [],
      "mount_file_id": "1zxQONaHp-WeprXOQoDRrZWJtzz6Dxp2c",
      "authorship_tag": "ABX9TyOfiR/gMUIfCczC7FK/AvK9",
      "include_colab_link": true
    },
    "kernelspec": {
      "name": "python3",
      "display_name": "Python 3"
    },
    "language_info": {
      "name": "python"
    }
  },
  "cells": [
    {
      "cell_type": "markdown",
      "metadata": {
        "id": "view-in-github",
        "colab_type": "text"
      },
      "source": [
        "<a href=\"https://colab.research.google.com/github/chw8207/python_study/blob/main/%ED%8C%8C%EC%9D%B4%EC%8D%AC_%EA%B8%B0%EB%B3%B8%26%EC%9E%90%EB%A3%8C%EA%B5%AC%EC%A1%B0.ipynb\" target=\"_parent\"><img src=\"https://colab.research.google.com/assets/colab-badge.svg\" alt=\"Open In Colab\"/></a>"
      ]
    },
    {
      "cell_type": "markdown",
      "source": [
        "### 리스트 내포"
      ],
      "metadata": {
        "id": "D1V5wRekg8pP"
      }
    },
    {
      "cell_type": "code",
      "execution_count": 2,
      "metadata": {
        "colab": {
          "base_uri": "https://localhost:8080/"
        },
        "id": "mCfD63yzgvm1",
        "outputId": "bd392a18-243f-447c-8706-b0f89f436d19"
      },
      "outputs": [
        {
          "output_type": "stream",
          "name": "stdout",
          "text": [
            "[0, 1, 2, 3, 4, 5, 6, 7, 8, 9]\n"
          ]
        }
      ],
      "source": [
        "# 일반 for문 사용\n",
        "data = []\n",
        "for i in range(10) : \n",
        "  data.append(i)\n",
        "print(data)"
      ]
    },
    {
      "cell_type": "code",
      "source": [
        "# 리스트 내포 코드\n",
        "data = [i for i in range(10)]\n",
        "print(data)"
      ],
      "metadata": {
        "colab": {
          "base_uri": "https://localhost:8080/"
        },
        "id": "8_S-rzEhhJoG",
        "outputId": "eb856149-7c52-44c9-9dbb-8f7d280a65ca"
      },
      "execution_count": 3,
      "outputs": [
        {
          "output_type": "stream",
          "name": "stdout",
          "text": [
            "[0, 1, 2, 3, 4, 5, 6, 7, 8, 9]\n"
          ]
        }
      ]
    },
    {
      "cell_type": "code",
      "source": [
        "# 조건식 지정\n",
        "data = [i for i in range(10) if i%2 ==0]\n",
        "print(data)"
      ],
      "metadata": {
        "colab": {
          "base_uri": "https://localhost:8080/"
        },
        "id": "JZ7Z-rJchY39",
        "outputId": "5018b56a-ca73-4c24-d4b3-3d366b2e9a7c"
      },
      "execution_count": 4,
      "outputs": [
        {
          "output_type": "stream",
          "name": "stdout",
          "text": [
            "[0, 2, 4, 6, 8]\n"
          ]
        }
      ]
    },
    {
      "cell_type": "code",
      "source": [
        "# if-else일 경우 조건을 앞쪽에 작성\n",
        "data = [i if i%2==0 else 0 for i in range(10)]\n",
        "print(data)"
      ],
      "metadata": {
        "colab": {
          "base_uri": "https://localhost:8080/"
        },
        "id": "Mv8ooR0KhjTM",
        "outputId": "bc41498c-d224-4d50-fadd-9b175d13acdd"
      },
      "execution_count": 5,
      "outputs": [
        {
          "output_type": "stream",
          "name": "stdout",
          "text": [
            "[0, 0, 2, 0, 4, 0, 6, 0, 8, 0]\n"
          ]
        }
      ]
    }
  ]
}