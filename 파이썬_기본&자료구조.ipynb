{
  "nbformat": 4,
  "nbformat_minor": 0,
  "metadata": {
    "colab": {
      "provenance": [],
      "mount_file_id": "1zxQONaHp-WeprXOQoDRrZWJtzz6Dxp2c",
      "authorship_tag": "ABX9TyOfrrqqEdJhTQucQsIP4HwX",
      "include_colab_link": true
    },
    "kernelspec": {
      "name": "python3",
      "display_name": "Python 3"
    },
    "language_info": {
      "name": "python"
    }
  },
  "cells": [
    {
      "cell_type": "markdown",
      "metadata": {
        "id": "view-in-github",
        "colab_type": "text"
      },
      "source": [
        "<a href=\"https://colab.research.google.com/github/chw8207/python_study/blob/main/%ED%8C%8C%EC%9D%B4%EC%8D%AC_%EA%B8%B0%EB%B3%B8%26%EC%9E%90%EB%A3%8C%EA%B5%AC%EC%A1%B0.ipynb\" target=\"_parent\"><img src=\"https://colab.research.google.com/assets/colab-badge.svg\" alt=\"Open In Colab\"/></a>"
      ]
    },
    {
      "cell_type": "markdown",
      "source": [
        "### 리스트 내포"
      ],
      "metadata": {
        "id": "D1V5wRekg8pP"
      }
    },
    {
      "cell_type": "code",
      "execution_count": null,
      "metadata": {
        "colab": {
          "base_uri": "https://localhost:8080/"
        },
        "id": "mCfD63yzgvm1",
        "outputId": "bd392a18-243f-447c-8706-b0f89f436d19"
      },
      "outputs": [
        {
          "output_type": "stream",
          "name": "stdout",
          "text": [
            "[0, 1, 2, 3, 4, 5, 6, 7, 8, 9]\n"
          ]
        }
      ],
      "source": [
        "# 일반 for문 사용\n",
        "data = []\n",
        "for i in range(10) : \n",
        "  data.append(i)\n",
        "print(data)"
      ]
    },
    {
      "cell_type": "code",
      "source": [
        "# 리스트 내포 코드\n",
        "data = [i for i in range(10)]\n",
        "print(data)"
      ],
      "metadata": {
        "colab": {
          "base_uri": "https://localhost:8080/"
        },
        "id": "8_S-rzEhhJoG",
        "outputId": "eb856149-7c52-44c9-9dbb-8f7d280a65ca"
      },
      "execution_count": null,
      "outputs": [
        {
          "output_type": "stream",
          "name": "stdout",
          "text": [
            "[0, 1, 2, 3, 4, 5, 6, 7, 8, 9]\n"
          ]
        }
      ]
    },
    {
      "cell_type": "code",
      "source": [
        "# 조건식 지정\n",
        "data = [i for i in range(10) if i%2 ==0]\n",
        "print(data)"
      ],
      "metadata": {
        "colab": {
          "base_uri": "https://localhost:8080/"
        },
        "id": "JZ7Z-rJchY39",
        "outputId": "5018b56a-ca73-4c24-d4b3-3d366b2e9a7c"
      },
      "execution_count": null,
      "outputs": [
        {
          "output_type": "stream",
          "name": "stdout",
          "text": [
            "[0, 2, 4, 6, 8]\n"
          ]
        }
      ]
    },
    {
      "cell_type": "code",
      "source": [
        "# if-else일 경우 조건을 앞쪽에 작성\n",
        "data = [i if i%2==0 else 0 for i in range(10)]\n",
        "print(data)"
      ],
      "metadata": {
        "colab": {
          "base_uri": "https://localhost:8080/"
        },
        "id": "Mv8ooR0KhjTM",
        "outputId": "bc41498c-d224-4d50-fadd-9b175d13acdd"
      },
      "execution_count": null,
      "outputs": [
        {
          "output_type": "stream",
          "name": "stdout",
          "text": [
            "[0, 0, 2, 0, 4, 0, 6, 0, 8, 0]\n"
          ]
        }
      ]
    },
    {
      "cell_type": "markdown",
      "source": [
        "### 함수"
      ],
      "metadata": {
        "id": "9PKDUwIIFbi9"
      }
    },
    {
      "cell_type": "code",
      "source": [
        "# 함수의 인수로 '정수'를 전달한 경우 : 불변형\n",
        "def calc(a) : \n",
        "  a -= 1\n",
        "  return a\n",
        "\n",
        "# 처리 전 값을 설정\n",
        "x = 3\n",
        "calc(x)"
      ],
      "metadata": {
        "colab": {
          "base_uri": "https://localhost:8080/"
        },
        "id": "uKUEpO9HFdIj",
        "outputId": "2e1af22b-6631-4710-eb98-307089f9d739"
      },
      "execution_count": 5,
      "outputs": [
        {
          "output_type": "execute_result",
          "data": {
            "text/plain": [
              "2"
            ]
          },
          "metadata": {},
          "execution_count": 5
        }
      ]
    },
    {
      "cell_type": "code",
      "source": [
        "print(x)"
      ],
      "metadata": {
        "colab": {
          "base_uri": "https://localhost:8080/"
        },
        "id": "KvVqVNYSGRI2",
        "outputId": "e7c43b1e-3b44-4bc5-82ea-bad0fd25e6b5"
      },
      "execution_count": 7,
      "outputs": [
        {
          "output_type": "stream",
          "name": "stdout",
          "text": [
            "3\n"
          ]
        }
      ]
    },
    {
      "cell_type": "code",
      "source": [
        "# 함수의 인수로 '리스트'를 전달한 경우 : 가변형\n",
        "def calc(a) : \n",
        "  a[0] -= 1\n",
        "  return a\n",
        "\n",
        "# 처리 전 값을 설정\n",
        "x = [4, 2, 5]\n",
        "calc(x)"
      ],
      "metadata": {
        "colab": {
          "base_uri": "https://localhost:8080/"
        },
        "id": "OVuof5ZyGYZc",
        "outputId": "d15d14c8-3de1-4cd0-a207-b71dbed4c228"
      },
      "execution_count": 9,
      "outputs": [
        {
          "output_type": "execute_result",
          "data": {
            "text/plain": [
              "[3, 2, 5]"
            ]
          },
          "metadata": {},
          "execution_count": 9
        }
      ]
    },
    {
      "cell_type": "code",
      "source": [
        "print(x)"
      ],
      "metadata": {
        "colab": {
          "base_uri": "https://localhost:8080/"
        },
        "id": "cVtkivW2GuMZ",
        "outputId": "b0e91d7f-0438-41fa-8522-ac4281f12091"
      },
      "execution_count": 10,
      "outputs": [
        {
          "output_type": "stream",
          "name": "stdout",
          "text": [
            "[3, 2, 5]\n"
          ]
        }
      ]
    },
    {
      "cell_type": "markdown",
      "source": [
        "### 변수의 유효 범위\n",
        " - 지역변수와 전역변수"
      ],
      "metadata": {
        "id": "DrDG3zEJMcQM"
      }
    },
    {
      "cell_type": "code",
      "source": [
        "x = 10  # 전역 변수에 값을 설정\n",
        "\n",
        "def check() : \n",
        "  a = 30  # 지역 변수에 값을 설정\n",
        "  print(x)\n",
        "  print(a)\n",
        "  return"
      ],
      "metadata": {
        "id": "6Z8VpahBH97B"
      },
      "execution_count": 12,
      "outputs": []
    },
    {
      "cell_type": "code",
      "source": [
        "# 함수 호출\n",
        "check() "
      ],
      "metadata": {
        "colab": {
          "base_uri": "https://localhost:8080/"
        },
        "id": "8YQphuejM2vk",
        "outputId": "2c9bb5d1-b044-4554-a662-24284f036e3b"
      },
      "execution_count": 13,
      "outputs": [
        {
          "output_type": "stream",
          "name": "stdout",
          "text": [
            "10\n",
            "30\n"
          ]
        }
      ]
    },
    {
      "cell_type": "code",
      "source": [
        "# 전역 변수값을 출력\n",
        "print(x)"
      ],
      "metadata": {
        "colab": {
          "base_uri": "https://localhost:8080/"
        },
        "id": "x17ODBvuM8Jl",
        "outputId": "6b177594-8582-4b50-e1c9-871610aaa923"
      },
      "execution_count": 14,
      "outputs": [
        {
          "output_type": "stream",
          "name": "stdout",
          "text": [
            "10\n"
          ]
        }
      ]
    },
    {
      "cell_type": "code",
      "source": [
        "# 지역 변수값을 출력 : 오류 발생\n",
        "print(a)"
      ],
      "metadata": {
        "colab": {
          "base_uri": "https://localhost:8080/",
          "height": 190
        },
        "id": "FIP5hg7bNHdX",
        "outputId": "a3cb3e07-7d0a-4f55-e458-db62faf1e7bf"
      },
      "execution_count": 15,
      "outputs": [
        {
          "output_type": "error",
          "ename": "NameError",
          "evalue": "ignored",
          "traceback": [
            "\u001b[0;31m---------------------------------------------------------------------------\u001b[0m",
            "\u001b[0;31mNameError\u001b[0m                                 Traceback (most recent call last)",
            "\u001b[0;32m<ipython-input-15-494af1c4c498>\u001b[0m in \u001b[0;36m<module>\u001b[0;34m\u001b[0m\n\u001b[1;32m      1\u001b[0m \u001b[0;31m# 지역 변수값을 출력\u001b[0m\u001b[0;34m\u001b[0m\u001b[0;34m\u001b[0m\u001b[0;34m\u001b[0m\u001b[0m\n\u001b[0;32m----> 2\u001b[0;31m \u001b[0mprint\u001b[0m\u001b[0;34m(\u001b[0m\u001b[0ma\u001b[0m\u001b[0;34m)\u001b[0m\u001b[0;34m\u001b[0m\u001b[0;34m\u001b[0m\u001b[0m\n\u001b[0m",
            "\u001b[0;31mNameError\u001b[0m: name 'a' is not defined"
          ]
        }
      ]
    }
  ]
}