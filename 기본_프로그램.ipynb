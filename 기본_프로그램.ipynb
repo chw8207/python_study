{
  "nbformat": 4,
  "nbformat_minor": 0,
  "metadata": {
    "colab": {
      "provenance": [],
      "mount_file_id": "1YJk7V4RSKb21TjUtiBAwwZZAStoKzRJS",
      "authorship_tag": "ABX9TyPZhV0hwnj9oFiPUijEGudl",
      "include_colab_link": true
    },
    "kernelspec": {
      "name": "python3",
      "display_name": "Python 3"
    },
    "language_info": {
      "name": "python"
    }
  },
  "cells": [
    {
      "cell_type": "markdown",
      "metadata": {
        "id": "view-in-github",
        "colab_type": "text"
      },
      "source": [
        "<a href=\"https://colab.research.google.com/github/chw8207/python_study/blob/main/%EA%B8%B0%EB%B3%B8_%ED%94%84%EB%A1%9C%EA%B7%B8%EB%9E%A8.ipynb\" target=\"_parent\"><img src=\"https://colab.research.google.com/assets/colab-badge.svg\" alt=\"Open In Colab\"/></a>"
      ]
    },
    {
      "cell_type": "markdown",
      "source": [
        "### FizzBuzz구현하기"
      ],
      "metadata": {
        "id": "jcpeIdk5RhwU"
      }
    },
    {
      "cell_type": "code",
      "source": [
        "from google.colab import drive\n",
        "drive.mount('/content/drive')"
      ],
      "metadata": {
        "colab": {
          "base_uri": "https://localhost:8080/"
        },
        "id": "11p8Whv5RosB",
        "outputId": "99ab84f8-86bd-4827-a176-87568523ff60"
      },
      "execution_count": null,
      "outputs": [
        {
          "output_type": "stream",
          "name": "stdout",
          "text": [
            "Mounted at /content/drive\n"
          ]
        }
      ]
    },
    {
      "cell_type": "code",
      "execution_count": null,
      "metadata": {
        "colab": {
          "base_uri": "https://localhost:8080/"
        },
        "id": "7kPmz9vURcPw",
        "outputId": "b301adaa-ff05-4927-9ff9-875b0f918f94"
      },
      "outputs": [
        {
          "output_type": "stream",
          "name": "stdout",
          "text": [
            "1 2 Fizz 4 Buzz Fizz 7 8 Fizz Buzz 11 Fizz 13 14 FizzBuzz 16 17 Fizz 19 Buzz Fizz 22 23 Fizz Buzz 26 Fizz 28 29 FizzBuzz 31 32 Fizz 34 Buzz Fizz 37 38 Fizz Buzz 41 Fizz 43 44 FizzBuzz 46 47 Fizz 49 Buzz Fizz 52 53 Fizz Buzz 56 Fizz 58 59 FizzBuzz 61 62 Fizz 64 Buzz Fizz 67 68 Fizz Buzz 71 Fizz 73 74 FizzBuzz 76 77 Fizz 79 Buzz Fizz 82 83 Fizz Buzz 86 Fizz 88 89 FizzBuzz 91 92 Fizz 94 Buzz Fizz 97 98 Fizz Buzz "
          ]
        }
      ],
      "source": [
        "# 1부터 100까지 숫자 출력\n",
        "# 3의 배수일 때는 Fizz 출력\n",
        "# 5의 배수일 때는 Buzz 출력\n",
        "# 3과 5의 공배수일 때는 FizzBuzz 출력\n",
        "for i in range(1, 101) : \n",
        "  if i%3==0 : \n",
        "    if i%5==0 : \n",
        "      print('FizzBuzz', end=' ')\n",
        "    else : \n",
        "      print('Fizz', end=' ')\n",
        "  elif i%5==0 : \n",
        "    print('Buzz', end=' ')\n",
        "  else : \n",
        "    print(i, end=' ')"
      ]
    },
    {
      "cell_type": "markdown",
      "source": [
        "### 자판기에서 거스름돈 계산하기"
      ],
      "metadata": {
        "id": "hOxRj7GWTsP6"
      }
    },
    {
      "cell_type": "code",
      "source": [
        "# 투입금액, 구매한 상품 구매 입력하는 화면 표시\n",
        "# 금액 입력하면 거스름돈을 계산하여 결과 표시\n",
        "insert_price = input('insert: ')               # 투입 금액\n",
        "product_price = input('product: ')             # 상품 금액\n",
        "change = int(insert_price)-int(product_price)  # 거스름돈 계산\n",
        "print(change)"
      ],
      "metadata": {
        "colab": {
          "base_uri": "https://localhost:8080/"
        },
        "id": "XSWC_OjSTuel",
        "outputId": "bee2beba-b75a-4245-ad44-a553094f52cc"
      },
      "execution_count": null,
      "outputs": [
        {
          "output_type": "stream",
          "name": "stdout",
          "text": [
            "insert: 10000\n",
            "product: 2362\n",
            "7638\n"
          ]
        }
      ]
    },
    {
      "cell_type": "code",
      "source": [
        "# 거스름돈 금액 구하기\n",
        "insert_price = input('insert: ')\n",
        "product_price = input('product: ')\n",
        "change = int(insert_price)-int(product_price)\n",
        "\n",
        "# 5000원 지폐 매수 구하기\n",
        "r5000 = change//5000\n",
        "q5000 = change%5000\n",
        "print('5000: ' + str(r5000))\n",
        "\n",
        "# 1000원 지폐 매수 구하기\n",
        "r1000 = q5000//1000\n",
        "q1000 = q5000%1000\n",
        "print('1000: ', str(r1000))\n",
        "\n",
        "# 500원 동전 개수 구하기\n",
        "r500 = q1000//500\n",
        "q500 = q1000%500\n",
        "print('500: ', str(r500))\n",
        "\n",
        "# 100원 동전 개수 구하기\n",
        "r100 = q500//100\n",
        "q100 = q500%100\n",
        "print('100: ', str(r100))\n",
        "\n",
        "# 50원 동전 개수 구하기\n",
        "r50 = q100//50\n",
        "q50 = q100%50\n",
        "print('50: ', str(r50))\n",
        "\n",
        "# 10원 동전 개수 구하기\n",
        "r10 = q50//10\n",
        "q10 = q50%10\n",
        "print('10 :', str(r10))\n",
        "\n",
        "# 5원 동전 개수 구하기\n",
        "r5 = q10//5\n",
        "q5 = q10%5\n",
        "print('5 :', str(r5))\n",
        "\n",
        "# 1원 동전 개수 구하기\n",
        "print('1: ', str(q5))"
      ],
      "metadata": {
        "colab": {
          "base_uri": "https://localhost:8080/"
        },
        "id": "MIaNSzdmUlIV",
        "outputId": "ea754da0-ffcd-4341-d534-322d38e59804"
      },
      "execution_count": null,
      "outputs": [
        {
          "output_type": "stream",
          "name": "stdout",
          "text": [
            "insert: 10000\n",
            "product: 2362\n",
            "5000: 1\n",
            "1000:  2\n",
            "500:  1\n",
            "100:  1\n",
            "50:  0\n",
            "10 : 3\n",
            "5 : 1\n",
            "1:  3\n"
          ]
        }
      ]
    },
    {
      "cell_type": "code",
      "source": [
        "# 리스트와 반복문으로 간단하게 만들기\n",
        "insert_price = input('insert: ')\n",
        "product_price = input('product: ')\n",
        "change = int(insert_price)-int(product_price)\n",
        "\n",
        "# 지폐 및 동전 단위를 요소로 설정한 리스트 만들기\n",
        "coin = [5000,1000,500,100,50,10,5,1]\n",
        "\n",
        "for i in coin : \n",
        "  r = change//i\n",
        "  change %= i\n",
        "  print(str(i) + ': ' + str(r))"
      ],
      "metadata": {
        "colab": {
          "base_uri": "https://localhost:8080/"
        },
        "id": "PFvgzBizW8W0",
        "outputId": "327a3dca-8f61-4c2d-8b8d-5686dfe972eb"
      },
      "execution_count": null,
      "outputs": [
        {
          "output_type": "stream",
          "name": "stdout",
          "text": [
            "insert: 10000\n",
            "product: 2362\n",
            "5000: 1\n",
            "1000: 2\n",
            "500: 1\n",
            "100: 1\n",
            "50: 0\n",
            "10: 3\n",
            "5: 1\n",
            "1: 3\n"
          ]
        }
      ]
    },
    {
      "cell_type": "code",
      "source": [
        "# 예외처리 반영(정수가 아닐 경우, 음수일 경우)\n",
        "import sys\n",
        "\n",
        "input_price = input('insert: ')\n",
        "if not input_price.isdecimal() : \n",
        "  print('정수를 입력하세요')\n",
        "  sys.exit()  # 에러가 발생하면 강제로 종료\n",
        "\n",
        "product_price = input('product: ')\n",
        "if not product_price.isdecimal() : \n",
        "  print('정수를 입력하세요')\n",
        "  sys.exit()\n",
        "\n",
        "change = int(input_price)-int(product_price)\n",
        "if change<0 : \n",
        "  print('금액이 부족합니다.')\n",
        "  sys.exit()\n",
        "\n",
        "coin = [5000,1000,500,100,50,10,5,1]\n",
        "for i in coin : \n",
        "  r = change//i\n",
        "  change%=i\n",
        "  print(str(i),': ', str(r))"
      ],
      "metadata": {
        "colab": {
          "base_uri": "https://localhost:8080/",
          "height": 154
        },
        "id": "4J5l4Y-4YyH-",
        "outputId": "6732d1d6-f802-472d-c506-e1a54a972197"
      },
      "execution_count": null,
      "outputs": [
        {
          "output_type": "stream",
          "name": "stdout",
          "text": [
            "insert: 10,000\n",
            "정수를 입력하세요\n"
          ]
        },
        {
          "output_type": "error",
          "ename": "SystemExit",
          "evalue": "ignored",
          "traceback": [
            "An exception has occurred, use %tb to see the full traceback.\n",
            "\u001b[0;31mSystemExit\u001b[0m\n"
          ]
        }
      ]
    },
    {
      "cell_type": "code",
      "source": [
        "# divmod() : 몫과 나머지 쌍으로 돌려주는 함수\n",
        "# 다른 프로그래밍 언어에서 사용할 수 없는 경우도 있어서 주의\n",
        "input_price = input('insert: ')\n",
        "product_price = input('product: ')\n",
        "change = int(input_price)-int(product_price)\n",
        "\n",
        "coin = [5000,1000,500,100,50,10,5,1]\n",
        "\n",
        "for i in coin : \n",
        "  r, change = divmod(change, i)\n",
        "  print(str(i), ': ', str(r))"
      ],
      "metadata": {
        "colab": {
          "base_uri": "https://localhost:8080/"
        },
        "id": "h7yblWBqaEpS",
        "outputId": "efc8238a-d42a-45f5-8cb0-ba838f6f6ee3"
      },
      "execution_count": null,
      "outputs": [
        {
          "output_type": "stream",
          "name": "stdout",
          "text": [
            "insert: 10000\n",
            "product: 2376\n",
            "5000 :  1\n",
            "1000 :  2\n",
            "500 :  1\n",
            "100 :  1\n",
            "50 :  0\n",
            "10 :  2\n",
            "5 :  0\n",
            "1 :  4\n"
          ]
        }
      ]
    },
    {
      "cell_type": "markdown",
      "source": [
        "###기수변환"
      ],
      "metadata": {
        "id": "vPz8gdJhuJYh"
      }
    },
    {
      "cell_type": "code",
      "source": [
        "# 10진수를 2진수로 변환\n",
        "n = 18\n",
        "\n",
        "result = ''\n",
        "while n>0 : \n",
        "  result = str(n%2) + result  # 나머지를 문자열의 왼쪽에 추가해 나감\n",
        "  n//=2\n",
        "\n",
        "print(result)"
      ],
      "metadata": {
        "id": "e46Wbg1KbD-s",
        "colab": {
          "base_uri": "https://localhost:8080/"
        },
        "outputId": "ab13c849-00ff-49f0-ff65-6674d4412920"
      },
      "execution_count": 3,
      "outputs": [
        {
          "output_type": "stream",
          "name": "stdout",
          "text": [
            "10010\n"
          ]
        }
      ]
    },
    {
      "cell_type": "code",
      "source": [
        "# 기수를 지정해 변환\n",
        "n = 18\n",
        "\n",
        "def convert(n, base) : \n",
        "  result = ''\n",
        "  while n>0 : \n",
        "    result = str(n%base) + result\n",
        "    n//base\n",
        "  return result\n",
        "\n",
        "print(convert(n,2))\n",
        "print(convert(n,3))\n",
        "print(convert(n,8))"
      ],
      "metadata": {
        "id": "1Tqw03hrvVP5"
      },
      "execution_count": null,
      "outputs": []
    },
    {
      "cell_type": "code",
      "source": [
        "# 2진수를 10진수로 변환하기\n",
        "n = '10010'\n",
        "\n",
        "result = 0\n",
        "\n",
        "for i in range(len(n)) : \n",
        "  result += int(n[i])*(2**(len(n)-i-1))\n",
        "print(result)"
      ],
      "metadata": {
        "colab": {
          "base_uri": "https://localhost:8080/"
        },
        "id": "FYGTFKTUyIts",
        "outputId": "e15451bc-754b-4c58-9641-d47ff4ec0319"
      },
      "execution_count": 7,
      "outputs": [
        {
          "output_type": "stream",
          "name": "stdout",
          "text": [
            "18\n"
          ]
        }
      ]
    },
    {
      "cell_type": "code",
      "source": [
        "# 10진수를 2진수로 변환 : bin()\n",
        "# 2진수를 10진수로 변환 : int(a, 2)\n",
        "a = 18\n",
        "print(bin(a))\n",
        "print(type(a))"
      ],
      "metadata": {
        "colab": {
          "base_uri": "https://localhost:8080/"
        },
        "id": "69NFs4kl00rb",
        "outputId": "795fef6d-d6e4-45ae-c772-c5ca150849ae"
      },
      "execution_count": 8,
      "outputs": [
        {
          "output_type": "stream",
          "name": "stdout",
          "text": [
            "0b10010\n",
            "<class 'int'>\n"
          ]
        }
      ]
    },
    {
      "cell_type": "code",
      "source": [
        "b = '10010'\n",
        "print(int(b,2))\n",
        "print(type(b))"
      ],
      "metadata": {
        "colab": {
          "base_uri": "https://localhost:8080/"
        },
        "id": "jcC7c9sE1Igi",
        "outputId": "fedaae48-737f-42f9-f4e2-4809c52ebce2"
      },
      "execution_count": 9,
      "outputs": [
        {
          "output_type": "stream",
          "name": "stdout",
          "text": [
            "18\n",
            "<class 'str'>\n"
          ]
        }
      ]
    },
    {
      "cell_type": "code",
      "source": [
        "a = 0b10010\n",
        "print(a)\n",
        "print(type(a))"
      ],
      "metadata": {
        "colab": {
          "base_uri": "https://localhost:8080/"
        },
        "id": "Mzw_hBYX1m4_",
        "outputId": "2051e3db-c488-4adc-d75e-2959c74d73b2"
      },
      "execution_count": 10,
      "outputs": [
        {
          "output_type": "stream",
          "name": "stdout",
          "text": [
            "18\n",
            "<class 'int'>\n"
          ]
        }
      ]
    },
    {
      "cell_type": "code",
      "source": [
        "# 비트 연산\n",
        "# 비트 반전\n",
        "a = 0b10010\n",
        "print(bin(~a))"
      ],
      "metadata": {
        "id": "cuh0KdkO2OvZ"
      },
      "execution_count": 11,
      "outputs": []
    },
    {
      "cell_type": "code",
      "source": [
        "# 논리곱\n",
        "b = 0b11001\n",
        "print(bin(a&b))"
      ],
      "metadata": {
        "colab": {
          "base_uri": "https://localhost:8080/"
        },
        "id": "TWbWFjr12XAX",
        "outputId": "148253ac-6c45-4abb-d043-e96fa3864a9a"
      },
      "execution_count": 13,
      "outputs": [
        {
          "output_type": "stream",
          "name": "stdout",
          "text": [
            "0b10000\n"
          ]
        }
      ]
    },
    {
      "cell_type": "code",
      "source": [
        "# 논리합\n",
        "print(bin(a|b))"
      ],
      "metadata": {
        "colab": {
          "base_uri": "https://localhost:8080/"
        },
        "id": "uCzIT31p2iWv",
        "outputId": "52719ee5-aa41-4069-b5e4-c3091e724967"
      },
      "execution_count": 14,
      "outputs": [
        {
          "output_type": "stream",
          "name": "stdout",
          "text": [
            "0b11011\n"
          ]
        }
      ]
    }
  ]
}