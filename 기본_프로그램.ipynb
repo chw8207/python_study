{
  "nbformat": 4,
  "nbformat_minor": 0,
  "metadata": {
    "colab": {
      "provenance": [],
      "authorship_tag": "ABX9TyNicp8541RuxtscB3Ykl/XA",
      "include_colab_link": true
    },
    "kernelspec": {
      "name": "python3",
      "display_name": "Python 3"
    },
    "language_info": {
      "name": "python"
    }
  },
  "cells": [
    {
      "cell_type": "markdown",
      "metadata": {
        "id": "view-in-github",
        "colab_type": "text"
      },
      "source": [
        "<a href=\"https://colab.research.google.com/github/chw8207/python_study/blob/main/%EA%B8%B0%EB%B3%B8_%ED%94%84%EB%A1%9C%EA%B7%B8%EB%9E%A8.ipynb\" target=\"_parent\"><img src=\"https://colab.research.google.com/assets/colab-badge.svg\" alt=\"Open In Colab\"/></a>"
      ]
    },
    {
      "cell_type": "markdown",
      "source": [
        "### FizzBuzz구현하기"
      ],
      "metadata": {
        "id": "jcpeIdk5RhwU"
      }
    },
    {
      "cell_type": "code",
      "source": [
        "from google.colab import drive\n",
        "drive.mount('/content/drive')"
      ],
      "metadata": {
        "colab": {
          "base_uri": "https://localhost:8080/"
        },
        "id": "11p8Whv5RosB",
        "outputId": "99ab84f8-86bd-4827-a176-87568523ff60"
      },
      "execution_count": 1,
      "outputs": [
        {
          "output_type": "stream",
          "name": "stdout",
          "text": [
            "Mounted at /content/drive\n"
          ]
        }
      ]
    },
    {
      "cell_type": "code",
      "execution_count": 7,
      "metadata": {
        "colab": {
          "base_uri": "https://localhost:8080/"
        },
        "id": "7kPmz9vURcPw",
        "outputId": "b301adaa-ff05-4927-9ff9-875b0f918f94"
      },
      "outputs": [
        {
          "output_type": "stream",
          "name": "stdout",
          "text": [
            "1 2 Fizz 4 Buzz Fizz 7 8 Fizz Buzz 11 Fizz 13 14 FizzBuzz 16 17 Fizz 19 Buzz Fizz 22 23 Fizz Buzz 26 Fizz 28 29 FizzBuzz 31 32 Fizz 34 Buzz Fizz 37 38 Fizz Buzz 41 Fizz 43 44 FizzBuzz 46 47 Fizz 49 Buzz Fizz 52 53 Fizz Buzz 56 Fizz 58 59 FizzBuzz 61 62 Fizz 64 Buzz Fizz 67 68 Fizz Buzz 71 Fizz 73 74 FizzBuzz 76 77 Fizz 79 Buzz Fizz 82 83 Fizz Buzz 86 Fizz 88 89 FizzBuzz 91 92 Fizz 94 Buzz Fizz 97 98 Fizz Buzz "
          ]
        }
      ],
      "source": [
        "# 1부터 100까지 숫자 출력\n",
        "# 3의 배수일 때는 Fizz 출력\n",
        "# 5의 배수일 때는 Buzz 출력\n",
        "# 3과 5의 공배수일 때는 FizzBuzz 출력\n",
        "for i in range(1, 101) : \n",
        "  if i%3==0 : \n",
        "    if i%5==0 : \n",
        "      print('FizzBuzz', end=' ')\n",
        "    else : \n",
        "      print('Fizz', end=' ')\n",
        "  elif i%5==0 : \n",
        "    print('Buzz', end=' ')\n",
        "  else : \n",
        "    print(i, end=' ')"
      ]
    },
    {
      "cell_type": "markdown",
      "source": [
        "### 자판기에서 거스름돈 계산하기"
      ],
      "metadata": {
        "id": "hOxRj7GWTsP6"
      }
    },
    {
      "cell_type": "code",
      "source": [
        "# 투입금액, 구매한 상품 구매 입력하는 화면 표시\n",
        "# 금액 입력하면 거스름돈을 계산하여 결과 표시\n",
        "insert_price = input('insert: ')               # 투입 금액\n",
        "product_price = input('produce: ')             # 상품 금액\n",
        "change = int(insert_price)-int(product_price)  # 거스름돈 계산\n",
        "print(change)"
      ],
      "metadata": {
        "colab": {
          "base_uri": "https://localhost:8080/"
        },
        "id": "XSWC_OjSTuel",
        "outputId": "e23b7728-515c-4ae4-863e-6294c9cd5d33"
      },
      "execution_count": 8,
      "outputs": [
        {
          "output_type": "stream",
          "name": "stdout",
          "text": [
            "insert: 20000\n",
            "produce: 15000\n",
            "5000\n"
          ]
        }
      ]
    }
  ]
}